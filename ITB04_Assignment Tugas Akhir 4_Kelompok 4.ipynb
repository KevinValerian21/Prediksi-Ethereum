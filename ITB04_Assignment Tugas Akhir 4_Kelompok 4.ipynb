{
 "cells": [
  {
   "cell_type": "markdown",
   "metadata": {},
   "source": [
    "# Prediksi Harga Kripto Ethereum\n",
    "## Kelompok 4\n",
    "* Kevin Valerian Ninia\n",
    "* Brylian Fandhi Safsalta"
   ]
  },
  {
   "cell_type": "markdown",
   "metadata": {},
   "source": [
    "## DAFTAR ISI\n",
    "    \n",
    "### 1. DESKRIPSI MASALAH\n",
    "    \n",
    "### 2. METADATA\n",
    "    \n",
    "### 3. DATA UNDERSTANDING\n",
    "    \n",
    "### 4. DATA PREPARATION\n",
    "    \n",
    "### 5. DATA MODELING\n",
    "* Regresi Linear Sederhana\n",
    "* Regresi Linear Berganda\n",
    "* Recurrent Neural Network (RNN)\n",
    "* Long Short Term Memory (LSTM)\n",
    "\n",
    "### 6. EVALUASI DAN PEMILIHAN MODEL TERBAIK  \n"
   ]
  },
  {
   "cell_type": "markdown",
   "metadata": {},
   "source": [
    "\n",
    "# Deskripsi Masalah\n",
    "---\n",
    "Membuat sebuah model yang dapat menentukan prediksi harga tertinggi koin kripto Ethereum pada hari tersebut. Sehingga, kita dapat mengambil keputusan untuk membeli atau menjual koin kripto tersebut saat ini demi mendapatkan keuntungan yang maksimal dan meminimalisir kerugian."
   ]
  },
  {
   "cell_type": "markdown",
   "metadata": {},
   "source": [
    "<a id=\"2\"></a>\n",
    "# <p style=\"font-family:ARIAL;color:#1C2842;font-size:100%;\" >Metadata</p>\n",
    "---\n",
    "Dataset Data Historis Ethereum - Investing.com.csv\n",
    "* 1. Tanggal    --> Catatan waktu yang dimuat dalam format tanggal/bulan/tahun\n",
    "* 2. Terakhir   --> Harga terakhir koin ethereum pada tanggal tersebut\n",
    "* 3. Pembukaan  --> Harga awal koin ethereum pada tanggal tersebut\n",
    "* 4. Tertinggi  --> Harga tertinggi yang diberikan untuk koin ethereum pada tanggal tersebut\n",
    "* 5. Terendah   --> Harga terendah yang diberikan untuk koin ethereum pada tanggal tersebut\n",
    "* 6. Vol.       --> Banyaknya orang yang sedang memiliki koin ethereum ppada tanggal tersebut\n",
    "* 7. Perubahan% --> Presentasi perubahan dari harga Pembukaan dengan harga Terakhir"
   ]
  },
  {
   "cell_type": "markdown",
   "metadata": {},
   "source": [
    "\n",
    "# Data Understanding\n",
    "---"
   ]
  },
  {
   "cell_type": "code",
   "execution_count": 2,
   "metadata": {},
   "outputs": [],
   "source": [
    "#Import Library\n",
    "# import library pandas\n",
    "import pandas as pd\n",
    "\n",
    "# import library numpy\n",
    "import numpy as np\n",
    "\n",
    "# import library matplotlib\n",
    "import matplotlib.pyplot as plt\n",
    "\n",
    "# import library seaborn\n",
    "import seaborn as sns\n",
    "\n",
    "# me non aktifkan peringatan pada python dengan import warning -> 'ignore'\n",
    "import warnings\n",
    "warnings.filterwarnings(\"ignore\")"
   ]
  },
  {
   "cell_type": "code",
   "execution_count": 3,
   "metadata": {},
   "outputs": [
    {
     "data": {
      "text/html": [
       "<div>\n",
       "<style scoped>\n",
       "    .dataframe tbody tr th:only-of-type {\n",
       "        vertical-align: middle;\n",
       "    }\n",
       "\n",
       "    .dataframe tbody tr th {\n",
       "        vertical-align: top;\n",
       "    }\n",
       "\n",
       "    .dataframe thead th {\n",
       "        text-align: right;\n",
       "    }\n",
       "</style>\n",
       "<table border=\"1\" class=\"dataframe\">\n",
       "  <thead>\n",
       "    <tr style=\"text-align: right;\">\n",
       "      <th></th>\n",
       "      <th>Tanggal</th>\n",
       "      <th>Terakhir</th>\n",
       "      <th>Pembukaan</th>\n",
       "      <th>Tertinggi</th>\n",
       "      <th>Terendah</th>\n",
       "      <th>Vol.</th>\n",
       "      <th>Perubahan%</th>\n",
       "    </tr>\n",
       "  </thead>\n",
       "  <tbody>\n",
       "    <tr>\n",
       "      <th>0</th>\n",
       "      <td>02/12/2021</td>\n",
       "      <td>4.569,60</td>\n",
       "      <td>4.583,28</td>\n",
       "      <td>4.629,75</td>\n",
       "      <td>4.454,79</td>\n",
       "      <td>617,22K</td>\n",
       "      <td>-0,30%</td>\n",
       "    </tr>\n",
       "    <tr>\n",
       "      <th>1</th>\n",
       "      <td>01/12/2021</td>\n",
       "      <td>4.583,28</td>\n",
       "      <td>4.628,72</td>\n",
       "      <td>4.778,14</td>\n",
       "      <td>4.525,33</td>\n",
       "      <td>669,18K</td>\n",
       "      <td>-0,99%</td>\n",
       "    </tr>\n",
       "    <tr>\n",
       "      <th>2</th>\n",
       "      <td>30/11/2021</td>\n",
       "      <td>4.628,90</td>\n",
       "      <td>4.443,22</td>\n",
       "      <td>4.749,12</td>\n",
       "      <td>4.349,21</td>\n",
       "      <td>973,46K</td>\n",
       "      <td>4,18%</td>\n",
       "    </tr>\n",
       "    <tr>\n",
       "      <th>3</th>\n",
       "      <td>29/11/2021</td>\n",
       "      <td>4.443,22</td>\n",
       "      <td>4.296,98</td>\n",
       "      <td>4.456,82</td>\n",
       "      <td>4.280,18</td>\n",
       "      <td>532,66K</td>\n",
       "      <td>3,40%</td>\n",
       "    </tr>\n",
       "    <tr>\n",
       "      <th>4</th>\n",
       "      <td>28/11/2021</td>\n",
       "      <td>4.296,98</td>\n",
       "      <td>4.095,16</td>\n",
       "      <td>4.297,63</td>\n",
       "      <td>3.980,24</td>\n",
       "      <td>487,53K</td>\n",
       "      <td>4,94%</td>\n",
       "    </tr>\n",
       "    <tr>\n",
       "      <th>5</th>\n",
       "      <td>27/11/2021</td>\n",
       "      <td>4.094,80</td>\n",
       "      <td>4.037,06</td>\n",
       "      <td>4.183,02</td>\n",
       "      <td>4.029,06</td>\n",
       "      <td>370,73K</td>\n",
       "      <td>1,49%</td>\n",
       "    </tr>\n",
       "    <tr>\n",
       "      <th>6</th>\n",
       "      <td>26/11/2021</td>\n",
       "      <td>4.034,53</td>\n",
       "      <td>4.520,30</td>\n",
       "      <td>4.548,10</td>\n",
       "      <td>3.917,43</td>\n",
       "      <td>1,00M</td>\n",
       "      <td>-10,75%</td>\n",
       "    </tr>\n",
       "    <tr>\n",
       "      <th>7</th>\n",
       "      <td>25/11/2021</td>\n",
       "      <td>4.520,30</td>\n",
       "      <td>4.270,73</td>\n",
       "      <td>4.549,74</td>\n",
       "      <td>4.248,90</td>\n",
       "      <td>578,65K</td>\n",
       "      <td>5,77%</td>\n",
       "    </tr>\n",
       "    <tr>\n",
       "      <th>8</th>\n",
       "      <td>24/11/2021</td>\n",
       "      <td>4.273,54</td>\n",
       "      <td>4.340,23</td>\n",
       "      <td>4.372,83</td>\n",
       "      <td>4.172,19</td>\n",
       "      <td>595,96K</td>\n",
       "      <td>-1,54%</td>\n",
       "    </tr>\n",
       "    <tr>\n",
       "      <th>9</th>\n",
       "      <td>23/11/2021</td>\n",
       "      <td>4.340,23</td>\n",
       "      <td>4.086,73</td>\n",
       "      <td>4.384,75</td>\n",
       "      <td>4.064,17</td>\n",
       "      <td>684,35K</td>\n",
       "      <td>6,20%</td>\n",
       "    </tr>\n",
       "  </tbody>\n",
       "</table>\n",
       "</div>"
      ],
      "text/plain": [
       "      Tanggal  Terakhir Pembukaan Tertinggi  Terendah     Vol. Perubahan%\n",
       "0  02/12/2021  4.569,60  4.583,28  4.629,75  4.454,79  617,22K     -0,30%\n",
       "1  01/12/2021  4.583,28  4.628,72  4.778,14  4.525,33  669,18K     -0,99%\n",
       "2  30/11/2021  4.628,90  4.443,22  4.749,12  4.349,21  973,46K      4,18%\n",
       "3  29/11/2021  4.443,22  4.296,98  4.456,82  4.280,18  532,66K      3,40%\n",
       "4  28/11/2021  4.296,98  4.095,16  4.297,63  3.980,24  487,53K      4,94%\n",
       "5  27/11/2021  4.094,80  4.037,06  4.183,02  4.029,06  370,73K      1,49%\n",
       "6  26/11/2021  4.034,53  4.520,30  4.548,10  3.917,43    1,00M    -10,75%\n",
       "7  25/11/2021  4.520,30  4.270,73  4.549,74  4.248,90  578,65K      5,77%\n",
       "8  24/11/2021  4.273,54  4.340,23  4.372,83  4.172,19  595,96K     -1,54%\n",
       "9  23/11/2021  4.340,23  4.086,73  4.384,75  4.064,17  684,35K      6,20%"
      ]
     },
     "execution_count": 3,
     "metadata": {},
     "output_type": "execute_result"
    }
   ],
   "source": [
    "#Memuat dataset\n",
    "df =  pd.read_csv('Data Historis Ethereum.csv')\n",
    "#Memanggil serta menampilkan 10 data teratas dari dataset tersebut\n",
    "df.head(10)"
   ]
  },
  {
   "cell_type": "code",
   "execution_count": 4,
   "metadata": {},
   "outputs": [
    {
     "name": "stdout",
     "output_type": "stream",
     "text": [
      "<class 'pandas.core.frame.DataFrame'>\n",
      "RangeIndex: 2094 entries, 0 to 2093\n",
      "Data columns (total 7 columns):\n",
      " #   Column      Non-Null Count  Dtype \n",
      "---  ------      --------------  ----- \n",
      " 0   Tanggal     2094 non-null   object\n",
      " 1   Terakhir    2094 non-null   object\n",
      " 2   Pembukaan   2094 non-null   object\n",
      " 3   Tertinggi   2094 non-null   object\n",
      " 4   Terendah    2094 non-null   object\n",
      " 5   Vol.        2094 non-null   object\n",
      " 6   Perubahan%  2094 non-null   object\n",
      "dtypes: object(7)\n",
      "memory usage: 114.6+ KB\n"
     ]
    }
   ],
   "source": [
    "#Melihat detail informasi terkain kolom yang ada dalam dataset tersebut\n",
    "df.info()"
   ]
  },
  {
   "cell_type": "markdown",
   "metadata": {},
   "source": [
    "Bentuk tipe data dari masing-masing atribut yang ada dalam dataset tersebut adalah bertipe object semuanya"
   ]
  },
  {
   "cell_type": "code",
   "execution_count": 5,
   "metadata": {},
   "outputs": [
    {
     "data": {
      "text/plain": [
       "(2094, 7)"
      ]
     },
     "execution_count": 5,
     "metadata": {},
     "output_type": "execute_result"
    }
   ],
   "source": [
    "#Melihat dimensi dataset\n",
    "df.shape"
   ]
  },
  {
   "cell_type": "markdown",
   "metadata": {},
   "source": [
    "Dataset tersebut memiliki 2094 baris data dengan 7 kolom"
   ]
  },
  {
   "cell_type": "code",
   "execution_count": 6,
   "metadata": {},
   "outputs": [
    {
     "name": "stdout",
     "output_type": "stream",
     "text": [
      "Jumlah dataset yang ada pada masing-masing atribut:\n"
     ]
    },
    {
     "data": {
      "text/plain": [
       "Tanggal       0\n",
       "Terakhir      0\n",
       "Pembukaan     0\n",
       "Tertinggi     0\n",
       "Terendah      0\n",
       "Vol.          0\n",
       "Perubahan%    0\n",
       "dtype: int64"
      ]
     },
     "execution_count": 6,
     "metadata": {},
     "output_type": "execute_result"
    }
   ],
   "source": [
    "#Melakukan pengecekan missing values terhadap dataset\n",
    "print('Jumlah dataset yang ada pada masing-masing atribut:')\n",
    "df.isna().sum()"
   ]
  },
  {
   "cell_type": "markdown",
   "metadata": {},
   "source": [
    "Tidak terdapat missing values dalam dataset tersebut"
   ]
  },
  {
   "cell_type": "code",
   "execution_count": 7,
   "metadata": {},
   "outputs": [
    {
     "data": {
      "text/html": [
       "<div>\n",
       "<style scoped>\n",
       "    .dataframe tbody tr th:only-of-type {\n",
       "        vertical-align: middle;\n",
       "    }\n",
       "\n",
       "    .dataframe tbody tr th {\n",
       "        vertical-align: top;\n",
       "    }\n",
       "\n",
       "    .dataframe thead th {\n",
       "        text-align: right;\n",
       "    }\n",
       "</style>\n",
       "<table border=\"1\" class=\"dataframe\">\n",
       "  <thead>\n",
       "    <tr style=\"text-align: right;\">\n",
       "      <th></th>\n",
       "      <th>Tanggal</th>\n",
       "      <th>Terakhir</th>\n",
       "      <th>Pembukaan</th>\n",
       "      <th>Tertinggi</th>\n",
       "      <th>Terendah</th>\n",
       "      <th>Vol.</th>\n",
       "      <th>Perubahan%</th>\n",
       "    </tr>\n",
       "  </thead>\n",
       "  <tbody>\n",
       "    <tr>\n",
       "      <th>count</th>\n",
       "      <td>2094</td>\n",
       "      <td>2094</td>\n",
       "      <td>2094</td>\n",
       "      <td>2094</td>\n",
       "      <td>2094</td>\n",
       "      <td>2094</td>\n",
       "      <td>2094</td>\n",
       "    </tr>\n",
       "    <tr>\n",
       "      <th>unique</th>\n",
       "      <td>2094</td>\n",
       "      <td>1983</td>\n",
       "      <td>1974</td>\n",
       "      <td>1976</td>\n",
       "      <td>1967</td>\n",
       "      <td>1648</td>\n",
       "      <td>1213</td>\n",
       "    </tr>\n",
       "    <tr>\n",
       "      <th>top</th>\n",
       "      <td>02/12/2021</td>\n",
       "      <td>10,16</td>\n",
       "      <td>10,16</td>\n",
       "      <td>10,16</td>\n",
       "      <td>10,16</td>\n",
       "      <td>-</td>\n",
       "      <td>0,00%</td>\n",
       "    </tr>\n",
       "    <tr>\n",
       "      <th>freq</th>\n",
       "      <td>1</td>\n",
       "      <td>9</td>\n",
       "      <td>8</td>\n",
       "      <td>7</td>\n",
       "      <td>7</td>\n",
       "      <td>8</td>\n",
       "      <td>14</td>\n",
       "    </tr>\n",
       "  </tbody>\n",
       "</table>\n",
       "</div>"
      ],
      "text/plain": [
       "           Tanggal Terakhir Pembukaan Tertinggi Terendah  Vol. Perubahan%\n",
       "count         2094     2094      2094      2094     2094  2094       2094\n",
       "unique        2094     1983      1974      1976     1967  1648       1213\n",
       "top     02/12/2021    10,16     10,16     10,16    10,16     -      0,00%\n",
       "freq             1        9         8         7        7     8         14"
      ]
     },
     "execution_count": 7,
     "metadata": {},
     "output_type": "execute_result"
    }
   ],
   "source": [
    "#Melihat deskripsi dataset secara statistik\n",
    "df.describe()"
   ]
  },
  {
   "cell_type": "markdown",
   "metadata": {},
   "source": [
    "Karena dataset tersebut memiliki kolom dengan tipe data object semuanya maka tidak dapat ditambilkan perhitungannya secara statistik. Sehingga pada tahap berikutnya yaitu Data Preparation perlu dilakukan perubahaan tipe data menjadi numerik untuk  6 kolom lainnya kecuali kolom Tanggal perlu diubah menjadi tipe Date agar dapat dilakukan pengolahan lebih lanjut"
   ]
  },
  {
   "cell_type": "markdown",
   "metadata": {},
   "source": [
    "\n",
    "# Data Preparation\n",
    "---"
   ]
  },
  {
   "cell_type": "code",
   "execution_count": 8,
   "metadata": {},
   "outputs": [
    {
     "data": {
      "text/html": [
       "<div>\n",
       "<style scoped>\n",
       "    .dataframe tbody tr th:only-of-type {\n",
       "        vertical-align: middle;\n",
       "    }\n",
       "\n",
       "    .dataframe tbody tr th {\n",
       "        vertical-align: top;\n",
       "    }\n",
       "\n",
       "    .dataframe thead th {\n",
       "        text-align: right;\n",
       "    }\n",
       "</style>\n",
       "<table border=\"1\" class=\"dataframe\">\n",
       "  <thead>\n",
       "    <tr style=\"text-align: right;\">\n",
       "      <th></th>\n",
       "      <th>Tanggal</th>\n",
       "      <th>Terakhir</th>\n",
       "      <th>Pembukaan</th>\n",
       "      <th>Tertinggi</th>\n",
       "      <th>Terendah</th>\n",
       "      <th>Vol.</th>\n",
       "      <th>Perubahan%</th>\n",
       "    </tr>\n",
       "  </thead>\n",
       "  <tbody>\n",
       "    <tr>\n",
       "      <th>0</th>\n",
       "      <td>02/12/2021</td>\n",
       "      <td>4.569,60</td>\n",
       "      <td>4.583,28</td>\n",
       "      <td>4.629,75</td>\n",
       "      <td>4.454,79</td>\n",
       "      <td>617,22K</td>\n",
       "      <td>-0,30%</td>\n",
       "    </tr>\n",
       "    <tr>\n",
       "      <th>1</th>\n",
       "      <td>01/12/2021</td>\n",
       "      <td>4.583,28</td>\n",
       "      <td>4.628,72</td>\n",
       "      <td>4.778,14</td>\n",
       "      <td>4.525,33</td>\n",
       "      <td>669,18K</td>\n",
       "      <td>-0,99%</td>\n",
       "    </tr>\n",
       "    <tr>\n",
       "      <th>2</th>\n",
       "      <td>30/11/2021</td>\n",
       "      <td>4.628,90</td>\n",
       "      <td>4.443,22</td>\n",
       "      <td>4.749,12</td>\n",
       "      <td>4.349,21</td>\n",
       "      <td>973,46K</td>\n",
       "      <td>4,18%</td>\n",
       "    </tr>\n",
       "    <tr>\n",
       "      <th>3</th>\n",
       "      <td>29/11/2021</td>\n",
       "      <td>4.443,22</td>\n",
       "      <td>4.296,98</td>\n",
       "      <td>4.456,82</td>\n",
       "      <td>4.280,18</td>\n",
       "      <td>532,66K</td>\n",
       "      <td>3,40%</td>\n",
       "    </tr>\n",
       "    <tr>\n",
       "      <th>4</th>\n",
       "      <td>28/11/2021</td>\n",
       "      <td>4.296,98</td>\n",
       "      <td>4.095,16</td>\n",
       "      <td>4.297,63</td>\n",
       "      <td>3.980,24</td>\n",
       "      <td>487,53K</td>\n",
       "      <td>4,94%</td>\n",
       "    </tr>\n",
       "    <tr>\n",
       "      <th>...</th>\n",
       "      <td>...</td>\n",
       "      <td>...</td>\n",
       "      <td>...</td>\n",
       "      <td>...</td>\n",
       "      <td>...</td>\n",
       "      <td>...</td>\n",
       "      <td>...</td>\n",
       "    </tr>\n",
       "    <tr>\n",
       "      <th>2089</th>\n",
       "      <td>14/03/2016</td>\n",
       "      <td>12,50</td>\n",
       "      <td>15,07</td>\n",
       "      <td>15,07</td>\n",
       "      <td>11,40</td>\n",
       "      <td>92,18K</td>\n",
       "      <td>-17,05%</td>\n",
       "    </tr>\n",
       "    <tr>\n",
       "      <th>2090</th>\n",
       "      <td>13/03/2016</td>\n",
       "      <td>15,07</td>\n",
       "      <td>12,92</td>\n",
       "      <td>15,07</td>\n",
       "      <td>12,92</td>\n",
       "      <td>1,30K</td>\n",
       "      <td>16,64%</td>\n",
       "    </tr>\n",
       "    <tr>\n",
       "      <th>2091</th>\n",
       "      <td>12/03/2016</td>\n",
       "      <td>12,92</td>\n",
       "      <td>11,95</td>\n",
       "      <td>13,45</td>\n",
       "      <td>11,95</td>\n",
       "      <td>0,83K</td>\n",
       "      <td>8,12%</td>\n",
       "    </tr>\n",
       "    <tr>\n",
       "      <th>2092</th>\n",
       "      <td>11/03/2016</td>\n",
       "      <td>11,95</td>\n",
       "      <td>11,75</td>\n",
       "      <td>11,95</td>\n",
       "      <td>11,75</td>\n",
       "      <td>0,18K</td>\n",
       "      <td>1,70%</td>\n",
       "    </tr>\n",
       "    <tr>\n",
       "      <th>2093</th>\n",
       "      <td>10/03/2016</td>\n",
       "      <td>11,75</td>\n",
       "      <td>11,20</td>\n",
       "      <td>11,85</td>\n",
       "      <td>11,07</td>\n",
       "      <td>0,00K</td>\n",
       "      <td>4,91%</td>\n",
       "    </tr>\n",
       "  </tbody>\n",
       "</table>\n",
       "<p>2094 rows × 7 columns</p>\n",
       "</div>"
      ],
      "text/plain": [
       "         Tanggal  Terakhir Pembukaan Tertinggi  Terendah     Vol. Perubahan%\n",
       "0     02/12/2021  4.569,60  4.583,28  4.629,75  4.454,79  617,22K     -0,30%\n",
       "1     01/12/2021  4.583,28  4.628,72  4.778,14  4.525,33  669,18K     -0,99%\n",
       "2     30/11/2021  4.628,90  4.443,22  4.749,12  4.349,21  973,46K      4,18%\n",
       "3     29/11/2021  4.443,22  4.296,98  4.456,82  4.280,18  532,66K      3,40%\n",
       "4     28/11/2021  4.296,98  4.095,16  4.297,63  3.980,24  487,53K      4,94%\n",
       "...          ...       ...       ...       ...       ...      ...        ...\n",
       "2089  14/03/2016     12,50     15,07     15,07     11,40   92,18K    -17,05%\n",
       "2090  13/03/2016     15,07     12,92     15,07     12,92    1,30K     16,64%\n",
       "2091  12/03/2016     12,92     11,95     13,45     11,95    0,83K      8,12%\n",
       "2092  11/03/2016     11,95     11,75     11,95     11,75    0,18K      1,70%\n",
       "2093  10/03/2016     11,75     11,20     11,85     11,07    0,00K      4,91%\n",
       "\n",
       "[2094 rows x 7 columns]"
      ]
     },
     "execution_count": 8,
     "metadata": {},
     "output_type": "execute_result"
    }
   ],
   "source": [
    "#Memanggil kembali dataset\n",
    "df"
   ]
  },
  {
   "cell_type": "code",
   "execution_count": 9,
   "metadata": {},
   "outputs": [],
   "source": [
    "#Melakukan perubahan terhadap format bilangan dalam dataset dengan menghilangkan tanda titik (.) sebagai ribuan\n",
    "df['Terakhir'] = df['Terakhir'].str.replace('.', '')\n",
    "df['Pembukaan'] = df['Pembukaan'].str.replace('.', '')\n",
    "df['Tertinggi'] = df['Tertinggi'].str.replace('.', '')\n",
    "df['Terendah'] = df['Terendah'].str.replace('.', '')\n",
    "df['Vol.'] = df['Vol.'].str.replace(',', '')\n",
    "df['Vol.'] = df['Vol.'].str.replace('K', '0')\n",
    "df['Vol.'] = df['Vol.'].str.replace('M', '0000')\n",
    "df['Perubahan%'] = df['Perubahan%'].str.replace('%', '')"
   ]
  },
  {
   "cell_type": "code",
   "execution_count": 10,
   "metadata": {},
   "outputs": [
    {
     "data": {
      "text/html": [
       "<div>\n",
       "<style scoped>\n",
       "    .dataframe tbody tr th:only-of-type {\n",
       "        vertical-align: middle;\n",
       "    }\n",
       "\n",
       "    .dataframe tbody tr th {\n",
       "        vertical-align: top;\n",
       "    }\n",
       "\n",
       "    .dataframe thead th {\n",
       "        text-align: right;\n",
       "    }\n",
       "</style>\n",
       "<table border=\"1\" class=\"dataframe\">\n",
       "  <thead>\n",
       "    <tr style=\"text-align: right;\">\n",
       "      <th></th>\n",
       "      <th>Tanggal</th>\n",
       "      <th>Terakhir</th>\n",
       "      <th>Pembukaan</th>\n",
       "      <th>Tertinggi</th>\n",
       "      <th>Terendah</th>\n",
       "      <th>Vol.</th>\n",
       "      <th>Perubahan%</th>\n",
       "    </tr>\n",
       "  </thead>\n",
       "  <tbody>\n",
       "    <tr>\n",
       "      <th>0</th>\n",
       "      <td>02/12/2021</td>\n",
       "      <td>4569,60</td>\n",
       "      <td>4583,28</td>\n",
       "      <td>4629,75</td>\n",
       "      <td>4454,79</td>\n",
       "      <td>617220</td>\n",
       "      <td>-0,30</td>\n",
       "    </tr>\n",
       "    <tr>\n",
       "      <th>1</th>\n",
       "      <td>01/12/2021</td>\n",
       "      <td>4583,28</td>\n",
       "      <td>4628,72</td>\n",
       "      <td>4778,14</td>\n",
       "      <td>4525,33</td>\n",
       "      <td>669180</td>\n",
       "      <td>-0,99</td>\n",
       "    </tr>\n",
       "    <tr>\n",
       "      <th>2</th>\n",
       "      <td>30/11/2021</td>\n",
       "      <td>4628,90</td>\n",
       "      <td>4443,22</td>\n",
       "      <td>4749,12</td>\n",
       "      <td>4349,21</td>\n",
       "      <td>973460</td>\n",
       "      <td>4,18</td>\n",
       "    </tr>\n",
       "    <tr>\n",
       "      <th>3</th>\n",
       "      <td>29/11/2021</td>\n",
       "      <td>4443,22</td>\n",
       "      <td>4296,98</td>\n",
       "      <td>4456,82</td>\n",
       "      <td>4280,18</td>\n",
       "      <td>532660</td>\n",
       "      <td>3,40</td>\n",
       "    </tr>\n",
       "    <tr>\n",
       "      <th>4</th>\n",
       "      <td>28/11/2021</td>\n",
       "      <td>4296,98</td>\n",
       "      <td>4095,16</td>\n",
       "      <td>4297,63</td>\n",
       "      <td>3980,24</td>\n",
       "      <td>487530</td>\n",
       "      <td>4,94</td>\n",
       "    </tr>\n",
       "    <tr>\n",
       "      <th>...</th>\n",
       "      <td>...</td>\n",
       "      <td>...</td>\n",
       "      <td>...</td>\n",
       "      <td>...</td>\n",
       "      <td>...</td>\n",
       "      <td>...</td>\n",
       "      <td>...</td>\n",
       "    </tr>\n",
       "    <tr>\n",
       "      <th>2089</th>\n",
       "      <td>14/03/2016</td>\n",
       "      <td>12,50</td>\n",
       "      <td>15,07</td>\n",
       "      <td>15,07</td>\n",
       "      <td>11,40</td>\n",
       "      <td>92180</td>\n",
       "      <td>-17,05</td>\n",
       "    </tr>\n",
       "    <tr>\n",
       "      <th>2090</th>\n",
       "      <td>13/03/2016</td>\n",
       "      <td>15,07</td>\n",
       "      <td>12,92</td>\n",
       "      <td>15,07</td>\n",
       "      <td>12,92</td>\n",
       "      <td>1300</td>\n",
       "      <td>16,64</td>\n",
       "    </tr>\n",
       "    <tr>\n",
       "      <th>2091</th>\n",
       "      <td>12/03/2016</td>\n",
       "      <td>12,92</td>\n",
       "      <td>11,95</td>\n",
       "      <td>13,45</td>\n",
       "      <td>11,95</td>\n",
       "      <td>0830</td>\n",
       "      <td>8,12</td>\n",
       "    </tr>\n",
       "    <tr>\n",
       "      <th>2092</th>\n",
       "      <td>11/03/2016</td>\n",
       "      <td>11,95</td>\n",
       "      <td>11,75</td>\n",
       "      <td>11,95</td>\n",
       "      <td>11,75</td>\n",
       "      <td>0180</td>\n",
       "      <td>1,70</td>\n",
       "    </tr>\n",
       "    <tr>\n",
       "      <th>2093</th>\n",
       "      <td>10/03/2016</td>\n",
       "      <td>11,75</td>\n",
       "      <td>11,20</td>\n",
       "      <td>11,85</td>\n",
       "      <td>11,07</td>\n",
       "      <td>0000</td>\n",
       "      <td>4,91</td>\n",
       "    </tr>\n",
       "  </tbody>\n",
       "</table>\n",
       "<p>2094 rows × 7 columns</p>\n",
       "</div>"
      ],
      "text/plain": [
       "         Tanggal Terakhir Pembukaan Tertinggi Terendah    Vol. Perubahan%\n",
       "0     02/12/2021  4569,60   4583,28   4629,75  4454,79  617220      -0,30\n",
       "1     01/12/2021  4583,28   4628,72   4778,14  4525,33  669180      -0,99\n",
       "2     30/11/2021  4628,90   4443,22   4749,12  4349,21  973460       4,18\n",
       "3     29/11/2021  4443,22   4296,98   4456,82  4280,18  532660       3,40\n",
       "4     28/11/2021  4296,98   4095,16   4297,63  3980,24  487530       4,94\n",
       "...          ...      ...       ...       ...      ...     ...        ...\n",
       "2089  14/03/2016    12,50     15,07     15,07    11,40   92180     -17,05\n",
       "2090  13/03/2016    15,07     12,92     15,07    12,92    1300      16,64\n",
       "2091  12/03/2016    12,92     11,95     13,45    11,95    0830       8,12\n",
       "2092  11/03/2016    11,95     11,75     11,95    11,75    0180       1,70\n",
       "2093  10/03/2016    11,75     11,20     11,85    11,07    0000       4,91\n",
       "\n",
       "[2094 rows x 7 columns]"
      ]
     },
     "execution_count": 10,
     "metadata": {},
     "output_type": "execute_result"
    }
   ],
   "source": [
    "#Menampilkan kembali dataset setelah dilakukan perubahan format bilangan dengan menghilangkan tanda titik\n",
    "df"
   ]
  },
  {
   "cell_type": "code",
   "execution_count": 11,
   "metadata": {},
   "outputs": [],
   "source": [
    "#Melakukan perubahan terhadap format bilangan dalam dataset dengan mengganti tanda koma (,) menjadi tanda (.) supaya dapat merubah tipe data menjadi float\n",
    "df['Tanggal'] = pd.to_datetime(df['Tanggal'], format = \"%d/%m/%Y\")\n",
    "df['Terakhir'] = df['Terakhir'].str.replace(',', '.').astype(float)\n",
    "df['Pembukaan'] = df['Pembukaan'].str.replace(',', '.').astype(float)\n",
    "df['Tertinggi'] = df['Tertinggi'].str.replace(',', '.').astype(float)\n",
    "df['Terendah'] = df['Terendah'].str.replace(',', '.').astype(float)\n",
    "df['Vol.']= pd.to_numeric(df['Vol.'], errors='coerce')\n",
    "df['Perubahan%'] = df['Perubahan%'].str.replace(',', '.').astype(float)"
   ]
  },
  {
   "cell_type": "code",
   "execution_count": 12,
   "metadata": {},
   "outputs": [
    {
     "data": {
      "text/html": [
       "<div>\n",
       "<style scoped>\n",
       "    .dataframe tbody tr th:only-of-type {\n",
       "        vertical-align: middle;\n",
       "    }\n",
       "\n",
       "    .dataframe tbody tr th {\n",
       "        vertical-align: top;\n",
       "    }\n",
       "\n",
       "    .dataframe thead th {\n",
       "        text-align: right;\n",
       "    }\n",
       "</style>\n",
       "<table border=\"1\" class=\"dataframe\">\n",
       "  <thead>\n",
       "    <tr style=\"text-align: right;\">\n",
       "      <th></th>\n",
       "      <th>Tanggal</th>\n",
       "      <th>Terakhir</th>\n",
       "      <th>Pembukaan</th>\n",
       "      <th>Tertinggi</th>\n",
       "      <th>Terendah</th>\n",
       "      <th>Vol.</th>\n",
       "      <th>Perubahan%</th>\n",
       "    </tr>\n",
       "  </thead>\n",
       "  <tbody>\n",
       "    <tr>\n",
       "      <th>0</th>\n",
       "      <td>2021-12-02</td>\n",
       "      <td>4569.60</td>\n",
       "      <td>4583.28</td>\n",
       "      <td>4629.75</td>\n",
       "      <td>4454.79</td>\n",
       "      <td>617220.0</td>\n",
       "      <td>-0.30</td>\n",
       "    </tr>\n",
       "    <tr>\n",
       "      <th>1</th>\n",
       "      <td>2021-12-01</td>\n",
       "      <td>4583.28</td>\n",
       "      <td>4628.72</td>\n",
       "      <td>4778.14</td>\n",
       "      <td>4525.33</td>\n",
       "      <td>669180.0</td>\n",
       "      <td>-0.99</td>\n",
       "    </tr>\n",
       "    <tr>\n",
       "      <th>2</th>\n",
       "      <td>2021-11-30</td>\n",
       "      <td>4628.90</td>\n",
       "      <td>4443.22</td>\n",
       "      <td>4749.12</td>\n",
       "      <td>4349.21</td>\n",
       "      <td>973460.0</td>\n",
       "      <td>4.18</td>\n",
       "    </tr>\n",
       "    <tr>\n",
       "      <th>3</th>\n",
       "      <td>2021-11-29</td>\n",
       "      <td>4443.22</td>\n",
       "      <td>4296.98</td>\n",
       "      <td>4456.82</td>\n",
       "      <td>4280.18</td>\n",
       "      <td>532660.0</td>\n",
       "      <td>3.40</td>\n",
       "    </tr>\n",
       "    <tr>\n",
       "      <th>4</th>\n",
       "      <td>2021-11-28</td>\n",
       "      <td>4296.98</td>\n",
       "      <td>4095.16</td>\n",
       "      <td>4297.63</td>\n",
       "      <td>3980.24</td>\n",
       "      <td>487530.0</td>\n",
       "      <td>4.94</td>\n",
       "    </tr>\n",
       "  </tbody>\n",
       "</table>\n",
       "</div>"
      ],
      "text/plain": [
       "     Tanggal  Terakhir  Pembukaan  Tertinggi  Terendah      Vol.  Perubahan%\n",
       "0 2021-12-02   4569.60    4583.28    4629.75   4454.79  617220.0       -0.30\n",
       "1 2021-12-01   4583.28    4628.72    4778.14   4525.33  669180.0       -0.99\n",
       "2 2021-11-30   4628.90    4443.22    4749.12   4349.21  973460.0        4.18\n",
       "3 2021-11-29   4443.22    4296.98    4456.82   4280.18  532660.0        3.40\n",
       "4 2021-11-28   4296.98    4095.16    4297.63   3980.24  487530.0        4.94"
      ]
     },
     "execution_count": 12,
     "metadata": {},
     "output_type": "execute_result"
    }
   ],
   "source": [
    "#Menampilkan kembali dataset setelah dilakukan semua perubahan format bilangan beserta tipe data menjadi float\n",
    "df.head(5)"
   ]
  },
  {
   "cell_type": "code",
   "execution_count": 13,
   "metadata": {},
   "outputs": [],
   "source": [
    "#Membuat data pada atribut Perubahan% dalam bentuk format desimal tanpa tanda % dengan mengalikannya dengan 0.01\n",
    "df['Perubahan%'] = df['Perubahan%'] * 0.01"
   ]
  },
  {
   "cell_type": "code",
   "execution_count": 14,
   "metadata": {},
   "outputs": [
    {
     "data": {
      "text/html": [
       "<div>\n",
       "<style scoped>\n",
       "    .dataframe tbody tr th:only-of-type {\n",
       "        vertical-align: middle;\n",
       "    }\n",
       "\n",
       "    .dataframe tbody tr th {\n",
       "        vertical-align: top;\n",
       "    }\n",
       "\n",
       "    .dataframe thead th {\n",
       "        text-align: right;\n",
       "    }\n",
       "</style>\n",
       "<table border=\"1\" class=\"dataframe\">\n",
       "  <thead>\n",
       "    <tr style=\"text-align: right;\">\n",
       "      <th></th>\n",
       "      <th>Tanggal</th>\n",
       "      <th>Terakhir</th>\n",
       "      <th>Pembukaan</th>\n",
       "      <th>Tertinggi</th>\n",
       "      <th>Terendah</th>\n",
       "      <th>Vol.</th>\n",
       "      <th>Perubahan%</th>\n",
       "    </tr>\n",
       "  </thead>\n",
       "  <tbody>\n",
       "    <tr>\n",
       "      <th>0</th>\n",
       "      <td>2021-12-02</td>\n",
       "      <td>4569.60</td>\n",
       "      <td>4583.28</td>\n",
       "      <td>4629.75</td>\n",
       "      <td>4454.79</td>\n",
       "      <td>617220.0</td>\n",
       "      <td>-0.0030</td>\n",
       "    </tr>\n",
       "    <tr>\n",
       "      <th>1</th>\n",
       "      <td>2021-12-01</td>\n",
       "      <td>4583.28</td>\n",
       "      <td>4628.72</td>\n",
       "      <td>4778.14</td>\n",
       "      <td>4525.33</td>\n",
       "      <td>669180.0</td>\n",
       "      <td>-0.0099</td>\n",
       "    </tr>\n",
       "    <tr>\n",
       "      <th>2</th>\n",
       "      <td>2021-11-30</td>\n",
       "      <td>4628.90</td>\n",
       "      <td>4443.22</td>\n",
       "      <td>4749.12</td>\n",
       "      <td>4349.21</td>\n",
       "      <td>973460.0</td>\n",
       "      <td>0.0418</td>\n",
       "    </tr>\n",
       "    <tr>\n",
       "      <th>3</th>\n",
       "      <td>2021-11-29</td>\n",
       "      <td>4443.22</td>\n",
       "      <td>4296.98</td>\n",
       "      <td>4456.82</td>\n",
       "      <td>4280.18</td>\n",
       "      <td>532660.0</td>\n",
       "      <td>0.0340</td>\n",
       "    </tr>\n",
       "    <tr>\n",
       "      <th>4</th>\n",
       "      <td>2021-11-28</td>\n",
       "      <td>4296.98</td>\n",
       "      <td>4095.16</td>\n",
       "      <td>4297.63</td>\n",
       "      <td>3980.24</td>\n",
       "      <td>487530.0</td>\n",
       "      <td>0.0494</td>\n",
       "    </tr>\n",
       "  </tbody>\n",
       "</table>\n",
       "</div>"
      ],
      "text/plain": [
       "     Tanggal  Terakhir  Pembukaan  Tertinggi  Terendah      Vol.  Perubahan%\n",
       "0 2021-12-02   4569.60    4583.28    4629.75   4454.79  617220.0     -0.0030\n",
       "1 2021-12-01   4583.28    4628.72    4778.14   4525.33  669180.0     -0.0099\n",
       "2 2021-11-30   4628.90    4443.22    4749.12   4349.21  973460.0      0.0418\n",
       "3 2021-11-29   4443.22    4296.98    4456.82   4280.18  532660.0      0.0340\n",
       "4 2021-11-28   4296.98    4095.16    4297.63   3980.24  487530.0      0.0494"
      ]
     },
     "execution_count": 14,
     "metadata": {},
     "output_type": "execute_result"
    }
   ],
   "source": [
    "df.head(5)"
   ]
  },
  {
   "cell_type": "code",
   "execution_count": 15,
   "metadata": {},
   "outputs": [
    {
     "name": "stdout",
     "output_type": "stream",
     "text": [
      "<class 'pandas.core.frame.DataFrame'>\n",
      "RangeIndex: 2094 entries, 0 to 2093\n",
      "Data columns (total 7 columns):\n",
      " #   Column      Non-Null Count  Dtype         \n",
      "---  ------      --------------  -----         \n",
      " 0   Tanggal     2094 non-null   datetime64[ns]\n",
      " 1   Terakhir    2094 non-null   float64       \n",
      " 2   Pembukaan   2094 non-null   float64       \n",
      " 3   Tertinggi   2094 non-null   float64       \n",
      " 4   Terendah    2094 non-null   float64       \n",
      " 5   Vol.        2086 non-null   float64       \n",
      " 6   Perubahan%  2094 non-null   float64       \n",
      "dtypes: datetime64[ns](1), float64(6)\n",
      "memory usage: 114.6 KB\n"
     ]
    }
   ],
   "source": [
    "df.info()"
   ]
  },
  {
   "cell_type": "code",
   "execution_count": 16,
   "metadata": {},
   "outputs": [
    {
     "name": "stdout",
     "output_type": "stream",
     "text": [
      "Jumlah dataset yang ada pada masing-masing atribut:\n"
     ]
    },
    {
     "data": {
      "text/plain": [
       "Tanggal       0\n",
       "Terakhir      0\n",
       "Pembukaan     0\n",
       "Tertinggi     0\n",
       "Terendah      0\n",
       "Vol.          8\n",
       "Perubahan%    0\n",
       "dtype: int64"
      ]
     },
     "execution_count": 16,
     "metadata": {},
     "output_type": "execute_result"
    }
   ],
   "source": [
    "#Melakukan pengecekan missing values terhadap dataset setelah dilakukan perubaha format dan tipe data terhadap dataset\n",
    "print('Jumlah dataset yang ada pada masing-masing atribut:')\n",
    "df.isna().sum()"
   ]
  },
  {
   "cell_type": "code",
   "execution_count": 17,
   "metadata": {
    "scrolled": false
   },
   "outputs": [
    {
     "data": {
      "text/html": [
       "<div>\n",
       "<style scoped>\n",
       "    .dataframe tbody tr th:only-of-type {\n",
       "        vertical-align: middle;\n",
       "    }\n",
       "\n",
       "    .dataframe tbody tr th {\n",
       "        vertical-align: top;\n",
       "    }\n",
       "\n",
       "    .dataframe thead th {\n",
       "        text-align: right;\n",
       "    }\n",
       "</style>\n",
       "<table border=\"1\" class=\"dataframe\">\n",
       "  <thead>\n",
       "    <tr style=\"text-align: right;\">\n",
       "      <th></th>\n",
       "      <th>Tanggal</th>\n",
       "      <th>Terakhir</th>\n",
       "      <th>Pembukaan</th>\n",
       "      <th>Tertinggi</th>\n",
       "      <th>Terendah</th>\n",
       "      <th>Vol.</th>\n",
       "      <th>Perubahan%</th>\n",
       "    </tr>\n",
       "  </thead>\n",
       "  <tbody>\n",
       "    <tr>\n",
       "      <th>1467</th>\n",
       "      <td>2017-11-26</td>\n",
       "      <td>464.00</td>\n",
       "      <td>464.00</td>\n",
       "      <td>464.00</td>\n",
       "      <td>464.00</td>\n",
       "      <td>NaN</td>\n",
       "      <td>0.0</td>\n",
       "    </tr>\n",
       "    <tr>\n",
       "      <th>1941</th>\n",
       "      <td>2016-08-09</td>\n",
       "      <td>10.16</td>\n",
       "      <td>10.16</td>\n",
       "      <td>10.16</td>\n",
       "      <td>10.16</td>\n",
       "      <td>NaN</td>\n",
       "      <td>0.0</td>\n",
       "    </tr>\n",
       "    <tr>\n",
       "      <th>1942</th>\n",
       "      <td>2016-08-08</td>\n",
       "      <td>10.16</td>\n",
       "      <td>10.16</td>\n",
       "      <td>10.16</td>\n",
       "      <td>10.16</td>\n",
       "      <td>NaN</td>\n",
       "      <td>0.0</td>\n",
       "    </tr>\n",
       "    <tr>\n",
       "      <th>1943</th>\n",
       "      <td>2016-08-07</td>\n",
       "      <td>10.16</td>\n",
       "      <td>10.16</td>\n",
       "      <td>10.16</td>\n",
       "      <td>10.16</td>\n",
       "      <td>NaN</td>\n",
       "      <td>0.0</td>\n",
       "    </tr>\n",
       "    <tr>\n",
       "      <th>1944</th>\n",
       "      <td>2016-08-06</td>\n",
       "      <td>10.16</td>\n",
       "      <td>10.16</td>\n",
       "      <td>10.16</td>\n",
       "      <td>10.16</td>\n",
       "      <td>NaN</td>\n",
       "      <td>0.0</td>\n",
       "    </tr>\n",
       "    <tr>\n",
       "      <th>1945</th>\n",
       "      <td>2016-08-05</td>\n",
       "      <td>10.16</td>\n",
       "      <td>10.16</td>\n",
       "      <td>10.16</td>\n",
       "      <td>10.16</td>\n",
       "      <td>NaN</td>\n",
       "      <td>0.0</td>\n",
       "    </tr>\n",
       "    <tr>\n",
       "      <th>1946</th>\n",
       "      <td>2016-08-04</td>\n",
       "      <td>10.16</td>\n",
       "      <td>10.16</td>\n",
       "      <td>10.16</td>\n",
       "      <td>10.16</td>\n",
       "      <td>NaN</td>\n",
       "      <td>0.0</td>\n",
       "    </tr>\n",
       "    <tr>\n",
       "      <th>1947</th>\n",
       "      <td>2016-08-03</td>\n",
       "      <td>10.16</td>\n",
       "      <td>10.16</td>\n",
       "      <td>10.16</td>\n",
       "      <td>10.16</td>\n",
       "      <td>NaN</td>\n",
       "      <td>0.0</td>\n",
       "    </tr>\n",
       "  </tbody>\n",
       "</table>\n",
       "</div>"
      ],
      "text/plain": [
       "        Tanggal  Terakhir  Pembukaan  Tertinggi  Terendah  Vol.  Perubahan%\n",
       "1467 2017-11-26    464.00     464.00     464.00    464.00   NaN         0.0\n",
       "1941 2016-08-09     10.16      10.16      10.16     10.16   NaN         0.0\n",
       "1942 2016-08-08     10.16      10.16      10.16     10.16   NaN         0.0\n",
       "1943 2016-08-07     10.16      10.16      10.16     10.16   NaN         0.0\n",
       "1944 2016-08-06     10.16      10.16      10.16     10.16   NaN         0.0\n",
       "1945 2016-08-05     10.16      10.16      10.16     10.16   NaN         0.0\n",
       "1946 2016-08-04     10.16      10.16      10.16     10.16   NaN         0.0\n",
       "1947 2016-08-03     10.16      10.16      10.16     10.16   NaN         0.0"
      ]
     },
     "execution_count": 17,
     "metadata": {},
     "output_type": "execute_result"
    }
   ],
   "source": [
    "#Melihat baris data yang missing value pada kolom Vol.\n",
    "mv_Vol = df.loc[np.where(df['Vol.'].isna())]\n",
    "mv_Vol"
   ]
  },
  {
   "cell_type": "markdown",
   "metadata": {},
   "source": [
    "Dari Data Frame diatas yang menunjukan isi dari baris data yang mengandung missing value terhadap atribut Vol. menunjukkan bahwa ada kejanggalan terhadap data. Yang mana tidak ada pergerakan data dari tanggal 3 Agustus 2016 s/d 9 Agustus 2016 dan pada tanggal 26 November 2017. Karena pola data dari 8 baris tersebut yang janggal, kami sepakat untuk tidak memuatnya kedalam dataset. Selanjutnya perlu dilakukan penghapusan 8 baris data missing value tersebut"
   ]
  },
  {
   "cell_type": "code",
   "execution_count": 18,
   "metadata": {},
   "outputs": [
    {
     "data": {
      "text/html": [
       "<div>\n",
       "<style scoped>\n",
       "    .dataframe tbody tr th:only-of-type {\n",
       "        vertical-align: middle;\n",
       "    }\n",
       "\n",
       "    .dataframe tbody tr th {\n",
       "        vertical-align: top;\n",
       "    }\n",
       "\n",
       "    .dataframe thead th {\n",
       "        text-align: right;\n",
       "    }\n",
       "</style>\n",
       "<table border=\"1\" class=\"dataframe\">\n",
       "  <thead>\n",
       "    <tr style=\"text-align: right;\">\n",
       "      <th></th>\n",
       "      <th>Tanggal</th>\n",
       "      <th>Terakhir</th>\n",
       "      <th>Pembukaan</th>\n",
       "      <th>Tertinggi</th>\n",
       "      <th>Terendah</th>\n",
       "      <th>Vol.</th>\n",
       "      <th>Perubahan%</th>\n",
       "    </tr>\n",
       "  </thead>\n",
       "  <tbody>\n",
       "    <tr>\n",
       "      <th>0</th>\n",
       "      <td>2021-12-02</td>\n",
       "      <td>4569.60</td>\n",
       "      <td>4583.28</td>\n",
       "      <td>4629.75</td>\n",
       "      <td>4454.79</td>\n",
       "      <td>617220.0</td>\n",
       "      <td>-0.0030</td>\n",
       "    </tr>\n",
       "    <tr>\n",
       "      <th>1</th>\n",
       "      <td>2021-12-01</td>\n",
       "      <td>4583.28</td>\n",
       "      <td>4628.72</td>\n",
       "      <td>4778.14</td>\n",
       "      <td>4525.33</td>\n",
       "      <td>669180.0</td>\n",
       "      <td>-0.0099</td>\n",
       "    </tr>\n",
       "    <tr>\n",
       "      <th>2</th>\n",
       "      <td>2021-11-30</td>\n",
       "      <td>4628.90</td>\n",
       "      <td>4443.22</td>\n",
       "      <td>4749.12</td>\n",
       "      <td>4349.21</td>\n",
       "      <td>973460.0</td>\n",
       "      <td>0.0418</td>\n",
       "    </tr>\n",
       "    <tr>\n",
       "      <th>3</th>\n",
       "      <td>2021-11-29</td>\n",
       "      <td>4443.22</td>\n",
       "      <td>4296.98</td>\n",
       "      <td>4456.82</td>\n",
       "      <td>4280.18</td>\n",
       "      <td>532660.0</td>\n",
       "      <td>0.0340</td>\n",
       "    </tr>\n",
       "    <tr>\n",
       "      <th>4</th>\n",
       "      <td>2021-11-28</td>\n",
       "      <td>4296.98</td>\n",
       "      <td>4095.16</td>\n",
       "      <td>4297.63</td>\n",
       "      <td>3980.24</td>\n",
       "      <td>487530.0</td>\n",
       "      <td>0.0494</td>\n",
       "    </tr>\n",
       "    <tr>\n",
       "      <th>...</th>\n",
       "      <td>...</td>\n",
       "      <td>...</td>\n",
       "      <td>...</td>\n",
       "      <td>...</td>\n",
       "      <td>...</td>\n",
       "      <td>...</td>\n",
       "      <td>...</td>\n",
       "    </tr>\n",
       "    <tr>\n",
       "      <th>2089</th>\n",
       "      <td>2016-03-14</td>\n",
       "      <td>12.50</td>\n",
       "      <td>15.07</td>\n",
       "      <td>15.07</td>\n",
       "      <td>11.40</td>\n",
       "      <td>92180.0</td>\n",
       "      <td>-0.1705</td>\n",
       "    </tr>\n",
       "    <tr>\n",
       "      <th>2090</th>\n",
       "      <td>2016-03-13</td>\n",
       "      <td>15.07</td>\n",
       "      <td>12.92</td>\n",
       "      <td>15.07</td>\n",
       "      <td>12.92</td>\n",
       "      <td>1300.0</td>\n",
       "      <td>0.1664</td>\n",
       "    </tr>\n",
       "    <tr>\n",
       "      <th>2091</th>\n",
       "      <td>2016-03-12</td>\n",
       "      <td>12.92</td>\n",
       "      <td>11.95</td>\n",
       "      <td>13.45</td>\n",
       "      <td>11.95</td>\n",
       "      <td>830.0</td>\n",
       "      <td>0.0812</td>\n",
       "    </tr>\n",
       "    <tr>\n",
       "      <th>2092</th>\n",
       "      <td>2016-03-11</td>\n",
       "      <td>11.95</td>\n",
       "      <td>11.75</td>\n",
       "      <td>11.95</td>\n",
       "      <td>11.75</td>\n",
       "      <td>180.0</td>\n",
       "      <td>0.0170</td>\n",
       "    </tr>\n",
       "    <tr>\n",
       "      <th>2093</th>\n",
       "      <td>2016-03-10</td>\n",
       "      <td>11.75</td>\n",
       "      <td>11.20</td>\n",
       "      <td>11.85</td>\n",
       "      <td>11.07</td>\n",
       "      <td>0.0</td>\n",
       "      <td>0.0491</td>\n",
       "    </tr>\n",
       "  </tbody>\n",
       "</table>\n",
       "<p>2086 rows × 7 columns</p>\n",
       "</div>"
      ],
      "text/plain": [
       "        Tanggal  Terakhir  Pembukaan  Tertinggi  Terendah      Vol.  \\\n",
       "0    2021-12-02   4569.60    4583.28    4629.75   4454.79  617220.0   \n",
       "1    2021-12-01   4583.28    4628.72    4778.14   4525.33  669180.0   \n",
       "2    2021-11-30   4628.90    4443.22    4749.12   4349.21  973460.0   \n",
       "3    2021-11-29   4443.22    4296.98    4456.82   4280.18  532660.0   \n",
       "4    2021-11-28   4296.98    4095.16    4297.63   3980.24  487530.0   \n",
       "...         ...       ...        ...        ...       ...       ...   \n",
       "2089 2016-03-14     12.50      15.07      15.07     11.40   92180.0   \n",
       "2090 2016-03-13     15.07      12.92      15.07     12.92    1300.0   \n",
       "2091 2016-03-12     12.92      11.95      13.45     11.95     830.0   \n",
       "2092 2016-03-11     11.95      11.75      11.95     11.75     180.0   \n",
       "2093 2016-03-10     11.75      11.20      11.85     11.07       0.0   \n",
       "\n",
       "      Perubahan%  \n",
       "0        -0.0030  \n",
       "1        -0.0099  \n",
       "2         0.0418  \n",
       "3         0.0340  \n",
       "4         0.0494  \n",
       "...          ...  \n",
       "2089     -0.1705  \n",
       "2090      0.1664  \n",
       "2091      0.0812  \n",
       "2092      0.0170  \n",
       "2093      0.0491  \n",
       "\n",
       "[2086 rows x 7 columns]"
      ]
     },
     "execution_count": 18,
     "metadata": {},
     "output_type": "execute_result"
    }
   ],
   "source": [
    "#Menghapus data missing value dari dataset\n",
    "df = df.dropna()\n",
    "df"
   ]
  },
  {
   "cell_type": "code",
   "execution_count": 19,
   "metadata": {},
   "outputs": [
    {
     "name": "stdout",
     "output_type": "stream",
     "text": [
      "<class 'pandas.core.frame.DataFrame'>\n",
      "Int64Index: 2086 entries, 0 to 2093\n",
      "Data columns (total 7 columns):\n",
      " #   Column      Non-Null Count  Dtype         \n",
      "---  ------      --------------  -----         \n",
      " 0   Tanggal     2086 non-null   datetime64[ns]\n",
      " 1   Terakhir    2086 non-null   float64       \n",
      " 2   Pembukaan   2086 non-null   float64       \n",
      " 3   Tertinggi   2086 non-null   float64       \n",
      " 4   Terendah    2086 non-null   float64       \n",
      " 5   Vol.        2086 non-null   float64       \n",
      " 6   Perubahan%  2086 non-null   float64       \n",
      "dtypes: datetime64[ns](1), float64(6)\n",
      "memory usage: 130.4 KB\n"
     ]
    }
   ],
   "source": [
    "df.info()"
   ]
  },
  {
   "cell_type": "code",
   "execution_count": 20,
   "metadata": {},
   "outputs": [
    {
     "data": {
      "text/html": [
       "<div>\n",
       "<style scoped>\n",
       "    .dataframe tbody tr th:only-of-type {\n",
       "        vertical-align: middle;\n",
       "    }\n",
       "\n",
       "    .dataframe tbody tr th {\n",
       "        vertical-align: top;\n",
       "    }\n",
       "\n",
       "    .dataframe thead th {\n",
       "        text-align: right;\n",
       "    }\n",
       "</style>\n",
       "<table border=\"1\" class=\"dataframe\">\n",
       "  <thead>\n",
       "    <tr style=\"text-align: right;\">\n",
       "      <th></th>\n",
       "      <th>Tanggal</th>\n",
       "      <th>Terakhir</th>\n",
       "      <th>Pembukaan</th>\n",
       "      <th>Tertinggi</th>\n",
       "      <th>Terendah</th>\n",
       "      <th>Vol.</th>\n",
       "      <th>Perubahan%</th>\n",
       "    </tr>\n",
       "  </thead>\n",
       "  <tbody>\n",
       "    <tr>\n",
       "      <th>2089</th>\n",
       "      <td>2016-03-14</td>\n",
       "      <td>12.50</td>\n",
       "      <td>15.07</td>\n",
       "      <td>15.07</td>\n",
       "      <td>11.40</td>\n",
       "      <td>92180.0</td>\n",
       "      <td>-0.1705</td>\n",
       "    </tr>\n",
       "    <tr>\n",
       "      <th>2090</th>\n",
       "      <td>2016-03-13</td>\n",
       "      <td>15.07</td>\n",
       "      <td>12.92</td>\n",
       "      <td>15.07</td>\n",
       "      <td>12.92</td>\n",
       "      <td>1300.0</td>\n",
       "      <td>0.1664</td>\n",
       "    </tr>\n",
       "    <tr>\n",
       "      <th>2091</th>\n",
       "      <td>2016-03-12</td>\n",
       "      <td>12.92</td>\n",
       "      <td>11.95</td>\n",
       "      <td>13.45</td>\n",
       "      <td>11.95</td>\n",
       "      <td>830.0</td>\n",
       "      <td>0.0812</td>\n",
       "    </tr>\n",
       "    <tr>\n",
       "      <th>2092</th>\n",
       "      <td>2016-03-11</td>\n",
       "      <td>11.95</td>\n",
       "      <td>11.75</td>\n",
       "      <td>11.95</td>\n",
       "      <td>11.75</td>\n",
       "      <td>180.0</td>\n",
       "      <td>0.0170</td>\n",
       "    </tr>\n",
       "    <tr>\n",
       "      <th>2093</th>\n",
       "      <td>2016-03-10</td>\n",
       "      <td>11.75</td>\n",
       "      <td>11.20</td>\n",
       "      <td>11.85</td>\n",
       "      <td>11.07</td>\n",
       "      <td>0.0</td>\n",
       "      <td>0.0491</td>\n",
       "    </tr>\n",
       "  </tbody>\n",
       "</table>\n",
       "</div>"
      ],
      "text/plain": [
       "        Tanggal  Terakhir  Pembukaan  Tertinggi  Terendah     Vol.  Perubahan%\n",
       "2089 2016-03-14     12.50      15.07      15.07     11.40  92180.0     -0.1705\n",
       "2090 2016-03-13     15.07      12.92      15.07     12.92   1300.0      0.1664\n",
       "2091 2016-03-12     12.92      11.95      13.45     11.95    830.0      0.0812\n",
       "2092 2016-03-11     11.95      11.75      11.95     11.75    180.0      0.0170\n",
       "2093 2016-03-10     11.75      11.20      11.85     11.07      0.0      0.0491"
      ]
     },
     "execution_count": 20,
     "metadata": {},
     "output_type": "execute_result"
    }
   ],
   "source": [
    "df.tail()"
   ]
  },
  {
   "cell_type": "code",
   "execution_count": 21,
   "metadata": {},
   "outputs": [
    {
     "name": "stdout",
     "output_type": "stream",
     "text": [
      "Jumlah dataset yang ada pada masing-masing atribut:\n"
     ]
    },
    {
     "data": {
      "text/plain": [
       "Tanggal       0\n",
       "Terakhir      0\n",
       "Pembukaan     0\n",
       "Tertinggi     0\n",
       "Terendah      0\n",
       "Vol.          0\n",
       "Perubahan%    0\n",
       "dtype: int64"
      ]
     },
     "execution_count": 21,
     "metadata": {},
     "output_type": "execute_result"
    }
   ],
   "source": [
    "#Melakukan pengecekan missing values terhadap dataset setelah dilakukan penanganan\n",
    "print('Jumlah dataset yang ada pada masing-masing atribut:')\n",
    "df.isna().sum()"
   ]
  },
  {
   "cell_type": "code",
   "execution_count": 22,
   "metadata": {},
   "outputs": [
    {
     "data": {
      "image/png": "[encoded data removed]",
      "text/plain": [
       "<Figure size 720x504 with 1 Axes>"
      ]
     },
     "metadata": {
      "needs_background": "light"
     },
     "output_type": "display_data"
    }
   ],
   "source": [
    "plt.subplots(figsize=(10,7))\n",
    "sns.boxplot(data=df).set_title(\"Ethereum\")\n",
    "plt.show()"
   ]
  },
  {
   "cell_type": "markdown",
   "metadata": {},
   "source": [
    "Berdasarkan visualisasi boxplot diatas, dapat diketahui bahwa atribut Vol. memiliki data outlier yang banyak. Hal ini disebabkan karena pergerakan Crypto currency yang fluktuatif, sehingga pola data dalam atribut Vol. dapat membentuk Outlier"
   ]
  },
  {
   "cell_type": "code",
   "execution_count": 23,
   "metadata": {},
   "outputs": [
    {
     "data": {
      "image/png": "[encoded data removed]",
      "text/plain": [
       "<Figure size 720x360 with 2 Axes>"
      ]
     },
     "metadata": {
      "needs_background": "light"
     },
     "output_type": "display_data"
    }
   ],
   "source": [
    "# mendapatkan korelasi di setiap fitur dalam dataset\n",
    "corrmat = df.corr()\n",
    "top_corr_features = corrmat.index\n",
    "plt.figure(figsize=(10,5))\n",
    "\n",
    "# plot heatmap\n",
    "h = sns.heatmap(df[top_corr_features].corr(),annot=True,cmap=\"RdYlGn\")"
   ]
  },
  {
   "cell_type": "markdown",
   "metadata": {},
   "source": [
    "* Berdasarkan visualisasi dari heatmap korelasi dataset, diperoleh bahwa atribut Vol. merupakan atribut dengan korelasi paling lemah relasinya terhadap atribut Terakhir, Pembukaan, Tertinggi, dan Terendah dengan nilai korelasi = -0.21 kemudian diikuti oleh atribut Perubahan% dengan  nilai korelasi = -0.026.\n",
    "\n",
    "* Atribut Perubahan% juga merupakan atribut dengan korelasi yang cukup lemah terhadap 5 atribut lainnya.\n",
    "\n",
    "* Sedangkan atribut Terakhir, Pembukaan, Tertinggi, dan Terendah keempatnya memiliki korelasi yang kuat terhadap satu sama lainnya. Sehingga, dapat disimpulkan bahwa untuk membangun model prediksi nantinya atribut yang direkomendasikan adalah \n",
    "\n",
    "* --> Pembukaan\n",
    "* --> Tertinggi\n",
    "* --> Terendah\n",
    "* --> Terakhir"
   ]
  },
  {
   "cell_type": "code",
   "execution_count": 24,
   "metadata": {},
   "outputs": [],
   "source": [
    "#Melihat rata-rata harga\n",
    "tahun = df['Tanggal']\n",
    "harga_tinggi = df['Tertinggi']"
   ]
  },
  {
   "cell_type": "code",
   "execution_count": 25,
   "metadata": {},
   "outputs": [
    {
     "data": {
      "image/png": "[encoded data removed]",
      "text/plain": [
       "<Figure size 1152x576 with 1 Axes>"
      ]
     },
     "metadata": {
      "needs_background": "light"
     },
     "output_type": "display_data"
    }
   ],
   "source": [
    "plt.figure(figsize=(16,8))\n",
    "plt.scatter(tahun,harga_tinggi)\n",
    "plt.plot(tahun,harga_tinggi)\n",
    "plt.xlabel('Tahun')\n",
    "plt.ylabel('Pergerakan Harga')\n",
    "plt.title('Pergerakan Harga Ethereum')\n",
    "plt.show()"
   ]
  },
  {
   "cell_type": "markdown",
   "metadata": {},
   "source": [
    "\n",
    "# Data Modeling\n",
    "---"
   ]
  },
  {
   "cell_type": "code",
   "execution_count": 26,
   "metadata": {},
   "outputs": [],
   "source": [
    "#Import library untuk melakukan skoring \n",
    "from sklearn import metrics  \n",
    "from sklearn.metrics import mean_absolute_error"
   ]
  },
  {
   "cell_type": "code",
   "execution_count": 27,
   "metadata": {},
   "outputs": [],
   "source": [
    "# import Module train_test_split digunakan untuk membagi data kita menjadi training dan testing set.\n",
    "from sklearn.model_selection import train_test_split"
   ]
  },
  {
   "cell_type": "code",
   "execution_count": 28,
   "metadata": {},
   "outputs": [],
   "source": [
    "# Prepare data\n",
    "# Pertama, buat variabel x dan y.\n",
    "x = df['Pembukaan'].values.reshape(-1,1)\n",
    "y = df['Tertinggi'].values.reshape(-1,1)"
   ]
  },
  {
   "cell_type": "code",
   "execution_count": 29,
   "metadata": {},
   "outputs": [],
   "source": [
    "X_train,X_test,y_train,y_test = train_test_split(x, y, train_size = 0.7, test_size = 0.3, random_state = 100)"
   ]
  },
  {
   "cell_type": "markdown",
   "metadata": {},
   "source": [
    "* X_train: Untuk menampung data source yang akan dilatih.\n",
    "* X_test: Untuk menampung data target yang akan dilatih.\n",
    "* y_train: Untuk menampung data source yang akan digunakan untuk testing.\n",
    "* y_test: Untuk menampung data target yang akan digunakan untuk testing.\n",
    "\n",
    "X dan y adalah nama variabel yang digunakan saat mendefinisikan data source dan data target. Parameter *test_size* digunakan untuk mendefinisikan ukuran data testing. Pembagian dataset di atas, test_size=0.3 berarti data yang digunakan sebagai data testing adalah sebesar 30% dari keseluruhan dataset.\n",
    "\n",
    "Perlu diketahui bahwa metode ini akan membagi train set dan test set secara random atau acak. Jadi, jika kita mengulang proses running, maka tentunya hasil yang didapat akan berubah-ubah. Untuk mengatasinya, kami menggunakan parameter *random_state*"
   ]
  },
  {
   "cell_type": "markdown",
   "metadata": {},
   "source": [
    "\n",
    "# --- Build Model --- Regresi Linear Sederhana"
   ]
  },
  {
   "cell_type": "code",
   "execution_count": 30,
   "metadata": {},
   "outputs": [],
   "source": [
    "#Import library LinearRegression\n",
    "from sklearn.linear_model import LinearRegression\n",
    "\n",
    "#Import library math\n",
    "import math"
   ]
  },
  {
   "cell_type": "code",
   "execution_count": 31,
   "metadata": {},
   "outputs": [],
   "source": [
    "#Definisi variabel object LinerRegression\n",
    "regressor = LinearRegression()"
   ]
  },
  {
   "cell_type": "code",
   "execution_count": 32,
   "metadata": {},
   "outputs": [
    {
     "data": {
      "text/plain": [
       "LinearRegression()"
      ]
     },
     "execution_count": 32,
     "metadata": {},
     "output_type": "execute_result"
    }
   ],
   "source": [
    "#Training the model menggunakan training data yang sudah displit sebelumnya.\n",
    "regressor.fit(X_train, y_train)"
   ]
  },
  {
   "cell_type": "code",
   "execution_count": 33,
   "metadata": {},
   "outputs": [
    {
     "name": "stdout",
     "output_type": "stream",
     "text": [
      "Nilai Koefisien :  1.036341074413246\n",
      "Nilai Intercept :  2.108953147465286\n"
     ]
    }
   ],
   "source": [
    "#MElihat nilai koefisien (m) dan intercept (b)\n",
    "print('Nilai Koefisien : ', regressor.coef_.item())\n",
    "print('Nilai Intercept : ', regressor.intercept_.item())"
   ]
  },
  {
   "cell_type": "markdown",
   "metadata": {},
   "source": [
    "Dari nilai m dan b diatas, kalau dimasukan ke dalam rumus persamaan menjadi:\n",
    "#     **y = 1.03x + 2.10**"
   ]
  },
  {
   "cell_type": "code",
   "execution_count": 34,
   "metadata": {},
   "outputs": [
    {
     "data": {
      "text/plain": [
       "0.9986633171237879"
      ]
     },
     "execution_count": 34,
     "metadata": {},
     "output_type": "execute_result"
    }
   ],
   "source": [
    "#Cari tahu accuracy score dari model kita menggunakan testing data yang sudah displit sebelumnya. Dan nilai korelasinya\n",
    "regressor.score(X_test,y_test)"
   ]
  },
  {
   "cell_type": "markdown",
   "metadata": {},
   "source": [
    "Model kita mendapatkan accuracy score sebesar 99.87%"
   ]
  },
  {
   "cell_type": "code",
   "execution_count": 35,
   "metadata": {},
   "outputs": [
    {
     "name": "stdout",
     "output_type": "stream",
     "text": [
      "Correlation:  0.9993314350723627\n"
     ]
    }
   ],
   "source": [
    "print('Correlation: ', math.sqrt(regressor.score(X_test,y_test)))"
   ]
  },
  {
   "cell_type": "code",
   "execution_count": 36,
   "metadata": {},
   "outputs": [
    {
     "data": {
      "text/plain": [
       "Text(0.5, 1.0, 'Plot Pembukaan vs Tertinggi')"
      ]
     },
     "execution_count": 36,
     "metadata": {},
     "output_type": "execute_result"
    },
    {
     "data": {
      "image/png": "[encoded data removed]",
      "text/plain": [
       "<Figure size 432x288 with 1 Axes>"
      ]
     },
     "metadata": {
      "needs_background": "light"
     },
     "output_type": "display_data"
    }
   ],
   "source": [
    "y_prediksi = regressor.predict(X_test)\n",
    "\n",
    "plt.scatter(X_test,y_test)\n",
    "plt.plot(X_test, y_prediksi, c='r')\n",
    "plt.xlabel('Pembukaan')\n",
    "plt.ylabel('Tertinggi')\n",
    "plt.title('Plot Pembukaan vs Tertinggi')"
   ]
  },
  {
   "cell_type": "markdown",
   "metadata": {},
   "source": [
    "Garis merah merupakan Regression Line dari model yang telah dibuat sebelumnya."
   ]
  },
  {
   "cell_type": "code",
   "execution_count": 37,
   "metadata": {},
   "outputs": [],
   "source": [
    "np_table = np.concatenate((X_test,y_test,y_prediksi), axis=1)\n",
    "new_dataframe = pd.DataFrame(data=np_table, columns=['X_test','y_test','y_predict'])"
   ]
  },
  {
   "cell_type": "code",
   "execution_count": 38,
   "metadata": {},
   "outputs": [
    {
     "data": {
      "text/html": [
       "<div>\n",
       "<style scoped>\n",
       "    .dataframe tbody tr th:only-of-type {\n",
       "        vertical-align: middle;\n",
       "    }\n",
       "\n",
       "    .dataframe tbody tr th {\n",
       "        vertical-align: top;\n",
       "    }\n",
       "\n",
       "    .dataframe thead th {\n",
       "        text-align: right;\n",
       "    }\n",
       "</style>\n",
       "<table border=\"1\" class=\"dataframe\">\n",
       "  <thead>\n",
       "    <tr style=\"text-align: right;\">\n",
       "      <th></th>\n",
       "      <th>X_test</th>\n",
       "      <th>y_test</th>\n",
       "      <th>y_predict</th>\n",
       "    </tr>\n",
       "  </thead>\n",
       "  <tbody>\n",
       "    <tr>\n",
       "      <th>0</th>\n",
       "      <td>697.06</td>\n",
       "      <td>713.80</td>\n",
       "      <td>724.500862</td>\n",
       "    </tr>\n",
       "    <tr>\n",
       "      <th>1</th>\n",
       "      <td>353.06</td>\n",
       "      <td>353.61</td>\n",
       "      <td>367.999533</td>\n",
       "    </tr>\n",
       "    <tr>\n",
       "      <th>2</th>\n",
       "      <td>11.69</td>\n",
       "      <td>11.76</td>\n",
       "      <td>14.223780</td>\n",
       "    </tr>\n",
       "    <tr>\n",
       "      <th>3</th>\n",
       "      <td>164.39</td>\n",
       "      <td>173.96</td>\n",
       "      <td>172.473062</td>\n",
       "    </tr>\n",
       "    <tr>\n",
       "      <th>4</th>\n",
       "      <td>448.73</td>\n",
       "      <td>465.09</td>\n",
       "      <td>467.146283</td>\n",
       "    </tr>\n",
       "    <tr>\n",
       "      <th>...</th>\n",
       "      <td>...</td>\n",
       "      <td>...</td>\n",
       "      <td>...</td>\n",
       "    </tr>\n",
       "    <tr>\n",
       "      <th>621</th>\n",
       "      <td>855.91</td>\n",
       "      <td>867.35</td>\n",
       "      <td>889.123642</td>\n",
       "    </tr>\n",
       "    <tr>\n",
       "      <th>622</th>\n",
       "      <td>2035.09</td>\n",
       "      <td>2042.61</td>\n",
       "      <td>2111.156310</td>\n",
       "    </tr>\n",
       "    <tr>\n",
       "      <th>623</th>\n",
       "      <td>257.00</td>\n",
       "      <td>299.89</td>\n",
       "      <td>268.448609</td>\n",
       "    </tr>\n",
       "    <tr>\n",
       "      <th>624</th>\n",
       "      <td>11.28</td>\n",
       "      <td>11.50</td>\n",
       "      <td>13.798880</td>\n",
       "    </tr>\n",
       "    <tr>\n",
       "      <th>625</th>\n",
       "      <td>415.02</td>\n",
       "      <td>453.61</td>\n",
       "      <td>432.211226</td>\n",
       "    </tr>\n",
       "  </tbody>\n",
       "</table>\n",
       "<p>626 rows × 3 columns</p>\n",
       "</div>"
      ],
      "text/plain": [
       "      X_test   y_test    y_predict\n",
       "0     697.06   713.80   724.500862\n",
       "1     353.06   353.61   367.999533\n",
       "2      11.69    11.76    14.223780\n",
       "3     164.39   173.96   172.473062\n",
       "4     448.73   465.09   467.146283\n",
       "..       ...      ...          ...\n",
       "621   855.91   867.35   889.123642\n",
       "622  2035.09  2042.61  2111.156310\n",
       "623   257.00   299.89   268.448609\n",
       "624    11.28    11.50    13.798880\n",
       "625   415.02   453.61   432.211226\n",
       "\n",
       "[626 rows x 3 columns]"
      ]
     },
     "execution_count": 38,
     "metadata": {},
     "output_type": "execute_result"
    }
   ],
   "source": [
    "new_dataframe"
   ]
  },
  {
   "cell_type": "code",
   "execution_count": 39,
   "metadata": {},
   "outputs": [
    {
     "name": "stdout",
     "output_type": "stream",
     "text": [
      "Hasil perhitungan skor dari model Regresi Linear Sederhana :\n",
      "explained_variance:  0.9987\n",
      "mean_squared_log_error:  0.0058\n",
      "r2:  0.9987\n",
      "MAE:  18.735\n",
      "MSE:  1451.4662\n",
      "RMSE:  38.0981\n",
      "Regressor skor:  0.9969\n"
     ]
    }
   ],
   "source": [
    "#Perhitungan skor hasil pemodelan\n",
    "# Regression metrics\n",
    "explained_variance=metrics.explained_variance_score(y_test, y_prediksi)\n",
    "mae_lrsederhana=metrics.mean_absolute_error(y_test, y_prediksi) \n",
    "mse_lrsederhana=metrics.mean_squared_error(y_test, y_prediksi) \n",
    "mean_squared_log_error=metrics.mean_squared_log_error(y_test, y_prediksi)\n",
    "median_absolute_error=metrics.median_absolute_error(y_test, y_prediksi)\n",
    "r2_lrsederhana=metrics.r2_score(y_test, y_prediksi)\n",
    "reg_score=regressor.score(y_test, y_prediksi)\n",
    "\n",
    "print('Hasil perhitungan skor dari model Regresi Linear Sederhana :')\n",
    "print('explained_variance: ', round(explained_variance,4))    \n",
    "print('mean_squared_log_error: ', round(mean_squared_log_error,4))\n",
    "print('r2: ', round(r2_lrsederhana,4))\n",
    "print('MAE: ', round(mae_lrsederhana,4))\n",
    "print('MSE: ', round(mse_lrsederhana,4))\n",
    "print('RMSE: ', round(np.sqrt(mse_lrsederhana),4))\n",
    "print('Regressor skor: ', round(reg_score,4))"
   ]
  },
  {
   "cell_type": "code",
   "execution_count": 40,
   "metadata": {},
   "outputs": [
    {
     "data": {
      "image/png": "[encoded data removed]",
      "text/plain": [
       "<Figure size 432x288 with 1 Axes>"
      ]
     },
     "metadata": {
      "needs_background": "light"
     },
     "output_type": "display_data"
    }
   ],
   "source": [
    "#Visualisasi perbandingan dataset Test dengan hasil prediksi\n",
    "plt.title('Perbandingan nilai Y test vs Hasil Prediksi Model')\n",
    "plt.ylabel('Test Set')\n",
    "plt.xlabel('Nilai Prediksi Model')\n",
    "plt.plot(y_prediksi, '.', y_test, 'x')\n",
    "plt.show()"
   ]
  },
  {
   "cell_type": "markdown",
   "metadata": {},
   "source": [
    "\n",
    "# --- Build Model --- Regresi Linear Berganda"
   ]
  },
  {
   "cell_type": "markdown",
   "metadata": {},
   "source": [
    "Dari hasil heatmap korelasi yang dilakukan sebelumnya, ditunjukkan bahwa atribut Pembukaan sangat dipengaruhi oleh 3 atribut lainnya yaitu (Tertinggi, Terendah, Terakhir). Karena korelasinya yang saling kuat satu sama lain maka dapat diterapakan teknik Regresi Linear Berganda untuk membangun model prediksinya."
   ]
  },
  {
   "cell_type": "code",
   "execution_count": 41,
   "metadata": {},
   "outputs": [
    {
     "data": {
      "image/png": "[encoded data removed]",
      "text/plain": [
       "<Figure size 432x288 with 1 Axes>"
      ]
     },
     "metadata": {
      "needs_background": "light"
     },
     "output_type": "display_data"
    }
   ],
   "source": [
    "# visualisasi Tertinggi vs Pembukaan\n",
    "\n",
    "plt.scatter(df['Pembukaan'], df['Tertinggi'],  color='blue')\n",
    "plt.xlabel(\"Pembukaan\")\n",
    "plt.ylabel(\"Tertinggi\")\n",
    "plt.show()"
   ]
  },
  {
   "cell_type": "code",
   "execution_count": 42,
   "metadata": {},
   "outputs": [
    {
     "data": {
      "image/png": "[encoded data removed]",
      "text/plain": [
       "<Figure size 432x288 with 1 Axes>"
      ]
     },
     "metadata": {
      "needs_background": "light"
     },
     "output_type": "display_data"
    }
   ],
   "source": [
    "# visualisasi Tertinggi vs Terendah\n",
    "\n",
    "plt.scatter(df['Terendah'], df['Tertinggi'],  color='blue')\n",
    "plt.xlabel(\"Terendah\")\n",
    "plt.ylabel(\"Tertinggi\")\n",
    "plt.show()"
   ]
  },
  {
   "cell_type": "code",
   "execution_count": 43,
   "metadata": {},
   "outputs": [
    {
     "data": {
      "image/png": "[encoded data removed]",
      "text/plain": [
       "<Figure size 432x288 with 1 Axes>"
      ]
     },
     "metadata": {
      "needs_background": "light"
     },
     "output_type": "display_data"
    }
   ],
   "source": [
    "# visualisasi Terakhir vs Tertinggi\n",
    "\n",
    "plt.scatter(df['Terakhir'], df['Tertinggi'],  color='blue')\n",
    "plt.xlabel(\"Terakhir\")\n",
    "plt.ylabel(\"Tertinggi\")\n",
    "plt.show()"
   ]
  },
  {
   "cell_type": "code",
   "execution_count": 44,
   "metadata": {},
   "outputs": [
    {
     "data": {
      "text/html": [
       "<div>\n",
       "<style scoped>\n",
       "    .dataframe tbody tr th:only-of-type {\n",
       "        vertical-align: middle;\n",
       "    }\n",
       "\n",
       "    .dataframe tbody tr th {\n",
       "        vertical-align: top;\n",
       "    }\n",
       "\n",
       "    .dataframe thead th {\n",
       "        text-align: right;\n",
       "    }\n",
       "</style>\n",
       "<table border=\"1\" class=\"dataframe\">\n",
       "  <thead>\n",
       "    <tr style=\"text-align: right;\">\n",
       "      <th></th>\n",
       "      <th>Tertinggi</th>\n",
       "      <th>Terendah</th>\n",
       "      <th>Terakhir</th>\n",
       "      <th>Pembukaan</th>\n",
       "    </tr>\n",
       "  </thead>\n",
       "  <tbody>\n",
       "    <tr>\n",
       "      <th>0</th>\n",
       "      <td>4629.75</td>\n",
       "      <td>4454.79</td>\n",
       "      <td>4569.60</td>\n",
       "      <td>4583.28</td>\n",
       "    </tr>\n",
       "    <tr>\n",
       "      <th>1</th>\n",
       "      <td>4778.14</td>\n",
       "      <td>4525.33</td>\n",
       "      <td>4583.28</td>\n",
       "      <td>4628.72</td>\n",
       "    </tr>\n",
       "    <tr>\n",
       "      <th>2</th>\n",
       "      <td>4749.12</td>\n",
       "      <td>4349.21</td>\n",
       "      <td>4628.90</td>\n",
       "      <td>4443.22</td>\n",
       "    </tr>\n",
       "    <tr>\n",
       "      <th>3</th>\n",
       "      <td>4456.82</td>\n",
       "      <td>4280.18</td>\n",
       "      <td>4443.22</td>\n",
       "      <td>4296.98</td>\n",
       "    </tr>\n",
       "    <tr>\n",
       "      <th>4</th>\n",
       "      <td>4297.63</td>\n",
       "      <td>3980.24</td>\n",
       "      <td>4296.98</td>\n",
       "      <td>4095.16</td>\n",
       "    </tr>\n",
       "    <tr>\n",
       "      <th>5</th>\n",
       "      <td>4183.02</td>\n",
       "      <td>4029.06</td>\n",
       "      <td>4094.80</td>\n",
       "      <td>4037.06</td>\n",
       "    </tr>\n",
       "    <tr>\n",
       "      <th>6</th>\n",
       "      <td>4548.10</td>\n",
       "      <td>3917.43</td>\n",
       "      <td>4034.53</td>\n",
       "      <td>4520.30</td>\n",
       "    </tr>\n",
       "    <tr>\n",
       "      <th>7</th>\n",
       "      <td>4549.74</td>\n",
       "      <td>4248.90</td>\n",
       "      <td>4520.30</td>\n",
       "      <td>4270.73</td>\n",
       "    </tr>\n",
       "    <tr>\n",
       "      <th>8</th>\n",
       "      <td>4372.83</td>\n",
       "      <td>4172.19</td>\n",
       "      <td>4273.54</td>\n",
       "      <td>4340.23</td>\n",
       "    </tr>\n",
       "    <tr>\n",
       "      <th>9</th>\n",
       "      <td>4384.75</td>\n",
       "      <td>4064.17</td>\n",
       "      <td>4340.23</td>\n",
       "      <td>4086.73</td>\n",
       "    </tr>\n",
       "  </tbody>\n",
       "</table>\n",
       "</div>"
      ],
      "text/plain": [
       "   Tertinggi  Terendah  Terakhir  Pembukaan\n",
       "0    4629.75   4454.79   4569.60    4583.28\n",
       "1    4778.14   4525.33   4583.28    4628.72\n",
       "2    4749.12   4349.21   4628.90    4443.22\n",
       "3    4456.82   4280.18   4443.22    4296.98\n",
       "4    4297.63   3980.24   4296.98    4095.16\n",
       "5    4183.02   4029.06   4094.80    4037.06\n",
       "6    4548.10   3917.43   4034.53    4520.30\n",
       "7    4549.74   4248.90   4520.30    4270.73\n",
       "8    4372.83   4172.19   4273.54    4340.23\n",
       "9    4384.75   4064.17   4340.23    4086.73"
      ]
     },
     "execution_count": 44,
     "metadata": {},
     "output_type": "execute_result"
    }
   ],
   "source": [
    "# seleksi data dan menampilkan 10 baris\n",
    "\n",
    "cdf = df[['Tertinggi','Terendah','Terakhir','Pembukaan']]\n",
    "cdf.head(10)"
   ]
  },
  {
   "cell_type": "markdown",
   "metadata": {},
   "source": [
    "### <p style=\"font-family:ARIAL;color:#1C2842;font-size:100%;\" >Distribusi Data Training</p>"
   ]
  },
  {
   "cell_type": "code",
   "execution_count": 45,
   "metadata": {},
   "outputs": [],
   "source": [
    "## membuat dataset train dan test\n",
    "\n",
    "msk = np.random.rand(len(df)) < 0.8\n",
    "train = cdf[msk]\n",
    "test = cdf[~msk]"
   ]
  },
  {
   "cell_type": "code",
   "execution_count": 46,
   "metadata": {},
   "outputs": [
    {
     "data": {
      "image/png": "[encoded data removed]",
      "text/plain": [
       "<Figure size 432x288 with 1 Axes>"
      ]
     },
     "metadata": {
      "needs_background": "light"
     },
     "output_type": "display_data"
    }
   ],
   "source": [
    "# visualisasi data train Tertinggi size vs Pembukaan\n",
    "\n",
    "plt.scatter(train['Pembukaan'], train['Tertinggi'],  color='blue')\n",
    "plt.xlabel(\"Pembukaan\")\n",
    "plt.ylabel(\"Tertinggi\")\n",
    "plt.show()"
   ]
  },
  {
   "cell_type": "code",
   "execution_count": 47,
   "metadata": {},
   "outputs": [
    {
     "data": {
      "image/png": "[encoded data removed]",
      "text/plain": [
       "<Figure size 432x288 with 1 Axes>"
      ]
     },
     "metadata": {
      "needs_background": "light"
     },
     "output_type": "display_data"
    }
   ],
   "source": [
    "# visualisasi data train Terendah size vs Tertinggi\n",
    "\n",
    "plt.scatter(train['Terendah'], train['Tertinggi'],  color='blue')\n",
    "plt.xlabel(\"Terendah\")\n",
    "plt.ylabel(\"Tertinggi\")\n",
    "plt.show()"
   ]
  },
  {
   "cell_type": "code",
   "execution_count": 48,
   "metadata": {},
   "outputs": [
    {
     "data": {
      "image/png": "[encoded data removed]",
      "text/plain": [
       "<Figure size 432x288 with 1 Axes>"
      ]
     },
     "metadata": {
      "needs_background": "light"
     },
     "output_type": "display_data"
    }
   ],
   "source": [
    "# visualisasi data train Terakhir size vs Tertinggi\n",
    "\n",
    "plt.scatter(train['Terakhir'], train['Tertinggi'],  color='blue')\n",
    "plt.xlabel(\"Terakhir\")\n",
    "plt.ylabel(\"Tertinggi\")\n",
    "plt.show()"
   ]
  },
  {
   "cell_type": "code",
   "execution_count": 49,
   "metadata": {},
   "outputs": [
    {
     "data": {
      "text/plain": [
       "LinearRegression()"
      ]
     },
     "execution_count": 49,
     "metadata": {},
     "output_type": "execute_result"
    }
   ],
   "source": [
    "from sklearn import linear_model\n",
    "regr = linear_model.LinearRegression()\n",
    "train_x = np.asanyarray(train[['Pembukaan','Terendah','Terakhir']])\n",
    "train_y = np.asanyarray(train[['Tertinggi']])\n",
    "regr.fit (train_x, train_y)"
   ]
  },
  {
   "cell_type": "code",
   "execution_count": 50,
   "metadata": {},
   "outputs": [
    {
     "name": "stdout",
     "output_type": "stream",
     "text": [
      "Coefficients:  [[ 0.72798262 -0.44300727  0.73178011]]\n",
      "Intercept:  [0.6084494]\n"
     ]
    }
   ],
   "source": [
    "# The coefficients\n",
    "print ('Coefficients: ', regr.coef_)\n",
    "print ('Intercept: ',regr.intercept_)"
   ]
  },
  {
   "cell_type": "code",
   "execution_count": 51,
   "metadata": {},
   "outputs": [
    {
     "data": {
      "text/plain": [
       "Text(0, 0.5, 'Tertinggi')"
      ]
     },
     "execution_count": 51,
     "metadata": {},
     "output_type": "execute_result"
    },
    {
     "data": {
      "image/png": "[encoded data removed]",
      "text/plain": [
       "<Figure size 432x288 with 1 Axes>"
      ]
     },
     "metadata": {
      "needs_background": "light"
     },
     "output_type": "display_data"
    }
   ],
   "source": [
    "# visualisasi data train Pembukaan vs Tertinggi dengan garis\n",
    "\n",
    "plt.scatter(train.Tertinggi, train.Pembukaan,  color='blue')\n",
    "plt.plot(train_x, regr.coef_[0][0]*train_x + regr.intercept_[0], '-r')\n",
    "plt.xlabel(\"Pembukaan\")\n",
    "plt.ylabel(\"Tertinggi\")"
   ]
  },
  {
   "cell_type": "code",
   "execution_count": 52,
   "metadata": {},
   "outputs": [
    {
     "name": "stdout",
     "output_type": "stream",
     "text": [
      "Hasil perhitungan skor dari model Regresi Linear Berganda :\n",
      "Mean absolute error: 10.01\n",
      "Residual sum of squares (MSE): 477.83\n",
      "R2-score: 0.9996\n"
     ]
    }
   ],
   "source": [
    "#Perhitungan skor hasil pemodelan\n",
    "from sklearn.metrics import r2_score\n",
    "\n",
    "test_x = np.asanyarray(test[['Pembukaan','Terendah','Terakhir']])\n",
    "test_y = np.asanyarray(test[['Tertinggi']])\n",
    "test_y_ = regr.predict(test_x)\n",
    "\n",
    "mae_lrganda = np.mean(np.absolute(test_y_ - test_y))\n",
    "mse_lrganda = np.mean((test_y_ - test_y) ** 2)\n",
    "r2_lrganda  = r2_score(test_y_ , test_y)\n",
    "print('Hasil perhitungan skor dari model Regresi Linear Berganda :')\n",
    "print(\"Mean absolute error: %.2f\" % mae_lrganda)\n",
    "print(\"Residual sum of squares (MSE): %.2f\" % mse_lrganda)\n",
    "print(\"R2-score: %.4f\" % r2_lrganda)"
   ]
  },
  {
   "cell_type": "code",
   "execution_count": 53,
   "metadata": {},
   "outputs": [],
   "source": [
    "p1 = pd.DataFrame(test_x, columns =['Pembukaan','Terendah','Terakhir'])\n",
    "p2 =pd.DataFrame(test_y, columns =['Asli'])\n",
    "p3 =pd.DataFrame(test_y_, columns =['Prediksi'])\n",
    "pp = [p1,p2,p3]\n",
    "\n",
    "hasilprediksiLRGanda = pd.concat(pp, axis=1)"
   ]
  },
  {
   "cell_type": "markdown",
   "metadata": {},
   "source": [
    "\n",
    "# --- Build Model --- Recurrent Neural Network (RNN)"
   ]
  },
  {
   "cell_type": "code",
   "execution_count": 53,
   "metadata": {},
   "outputs": [],
   "source": [
    "# Import library untuk membangun model RNN\n",
    "from keras.layers import Dense, Dropout,SimpleRNN\n",
    "from keras.models import Sequential\n",
    "from sklearn.preprocessing import MinMaxScaler"
   ]
  },
  {
   "cell_type": "code",
   "execution_count": 54,
   "metadata": {},
   "outputs": [
    {
     "data": {
      "text/plain": [
       "array([[4629.75],\n",
       "       [4778.14],\n",
       "       [4749.12],\n",
       "       ...,\n",
       "       [  13.45],\n",
       "       [  11.95],\n",
       "       [  11.85]])"
      ]
     },
     "execution_count": 54,
     "metadata": {},
     "output_type": "execute_result"
    }
   ],
   "source": [
    "#Memanggil atribut Tertinggi\n",
    "hargaTinggi = df['Tertinggi'].values.reshape(-1,1)\n",
    "hargaTinggi"
   ]
  },
  {
   "cell_type": "code",
   "execution_count": 55,
   "metadata": {},
   "outputs": [
    {
     "data": {
      "text/plain": [
       "array([['2021-12-02T00:00:00.000000000'],\n",
       "       ['2021-12-01T00:00:00.000000000'],\n",
       "       ['2021-11-30T00:00:00.000000000'],\n",
       "       ...,\n",
       "       ['2016-03-12T00:00:00.000000000'],\n",
       "       ['2016-03-11T00:00:00.000000000'],\n",
       "       ['2016-03-10T00:00:00.000000000']], dtype='datetime64[ns]')"
      ]
     },
     "execution_count": 55,
     "metadata": {},
     "output_type": "execute_result"
    }
   ],
   "source": [
    "#Memanggil atribut Tanggal\n",
    "Tahun = df['Tanggal'].values.reshape(-1,1)\n",
    "Tahun"
   ]
  },
  {
   "cell_type": "code",
   "execution_count": 56,
   "metadata": {},
   "outputs": [
    {
     "data": {
      "image/png": "[encoded data removed]",
      "text/plain": [
       "<Figure size 1008x720 with 1 Axes>"
      ]
     },
     "metadata": {
      "needs_background": "light"
     },
     "output_type": "display_data"
    }
   ],
   "source": [
    "# Visualisasi data harga Teringgi vs Tanggal\n",
    "plt.figure(figsize=(14,10))                 \n",
    "plt.plot(Tahun,hargaTinggi, c=\"blue\")\n",
    "plt.title(\"Pergerakan Harga Tertinggi Ethereum\",fontsize=16)\n",
    "plt.xlabel(\"Tahun\",fontsize=16)\n",
    "plt.ylabel(\"Harga Tertinggi\",fontsize=16)\n",
    "plt.grid()\n",
    "plt.show()"
   ]
  },
  {
   "cell_type": "code",
   "execution_count": 57,
   "metadata": {},
   "outputs": [],
   "source": [
    "# Menskalakan data antara 1 dan 0 (scaling) pada low data\n",
    "scaler = MinMaxScaler(feature_range=(0,1))           \n",
    "tertinggi_scaled = scaler.fit_transform(hargaTinggi)"
   ]
  },
  {
   "cell_type": "code",
   "execution_count": 58,
   "metadata": {},
   "outputs": [],
   "source": [
    "# definisikan variabel step dan train \n",
    "\n",
    "step_size = 85                     \n",
    "\n",
    "train_x = []\n",
    "train_y = []"
   ]
  },
  {
   "cell_type": "code",
   "execution_count": 59,
   "metadata": {},
   "outputs": [],
   "source": [
    "# membuat fitur dan lists label\n",
    "\n",
    "for i in range(step_size, 2085):                \n",
    "    train_x.append(tertinggi_scaled[i-step_size:i,0])\n",
    "    train_y.append(tertinggi_scaled[i,0])"
   ]
  },
  {
   "cell_type": "code",
   "execution_count": 60,
   "metadata": {},
   "outputs": [],
   "source": [
    "# mengonversi list yang telah dibuat sebelumnya ke array\n",
    "\n",
    "train_x = np.array(train_x)                   \n",
    "train_y = np.array(train_y)"
   ]
  },
  {
   "cell_type": "code",
   "execution_count": 61,
   "metadata": {},
   "outputs": [
    {
     "name": "stdout",
     "output_type": "stream",
     "text": [
      "(2000, 85)\n"
     ]
    }
   ],
   "source": [
    "# cek dimensi data dengan function .shape\n",
    "\n",
    "print(train_x.shape)                               "
   ]
  },
  {
   "cell_type": "code",
   "execution_count": 62,
   "metadata": {},
   "outputs": [],
   "source": [
    "# 498 hari terakhir akan digunakan dalam pengujian\n",
    "# 2500 hari pertama akan digunakan dalam pelatihan\n",
    "\n",
    "test_x  = train_x[1600:]            \n",
    "train_x = train_x[:1600]          \n",
    "test_y = train_y[1600:]  \n",
    "train_y = train_y[:1600]"
   ]
  },
  {
   "cell_type": "code",
   "execution_count": 63,
   "metadata": {},
   "outputs": [],
   "source": [
    "# reshape data untuk dimasukkan kedalam Keras model\n",
    "\n",
    "train_x = np.reshape(train_x, (1600, step_size, 1))           \n",
    "test_x = np.reshape(test_x, (400, step_size, 1))"
   ]
  },
  {
   "cell_type": "code",
   "execution_count": 64,
   "metadata": {},
   "outputs": [],
   "source": [
    "# buat varibel penampung model RNN\n",
    "rnn_model = Sequential()"
   ]
  },
  {
   "cell_type": "code",
   "execution_count": 65,
   "metadata": {},
   "outputs": [],
   "source": [
    "# Output dari SimpleRNN akan menjadi bentuk tensor 2D (batch_size, 40) dengan Dropout sebesar 0.15\n",
    "\n",
    "rnn_model.add(SimpleRNN(40, activation=\"tanh\", return_sequences=True, input_shape=(train_x.shape[1], 1)))\n",
    "rnn_model.add(Dropout(0.15))\n",
    "\n",
    "rnn_model.add(SimpleRNN(40, activation=\"tanh\", return_sequences=True))\n",
    "rnn_model.add(Dropout(0.15))\n",
    "\n",
    "rnn_model.add(SimpleRNN(40, activation=\"tanh\", return_sequences=False))\n",
    "rnn_model.add(Dropout(0.15))\n",
    "\n",
    "# Add a Dense layer with 1 units.\n",
    "rnn_model.add(Dense(1))"
   ]
  },
  {
   "cell_type": "code",
   "execution_count": 66,
   "metadata": {},
   "outputs": [],
   "source": [
    "# menambahkan loss function kedalam model RNN dengan tipe MSE\n",
    "\n",
    "rnn_model.compile(optimizer=\"adam\", loss=\"MSE\")"
   ]
  },
  {
   "cell_type": "code",
   "execution_count": 67,
   "metadata": {},
   "outputs": [
    {
     "name": "stdout",
     "output_type": "stream",
     "text": [
      "Epoch 1/20\n",
      "WARNING:tensorflow:Model was constructed with shape (None, 85, 1) for input KerasTensor(type_spec=TensorSpec(shape=(None, 85, 1), dtype=tf.float32, name='simple_rnn_input'), name='simple_rnn_input', description=\"created by layer 'simple_rnn_input'\"), but it was called on an input with incompatible shape (None, 1, 1).\n",
      "WARNING:tensorflow:Model was constructed with shape (None, 85, 1) for input KerasTensor(type_spec=TensorSpec(shape=(None, 85, 1), dtype=tf.float32, name='simple_rnn_input'), name='simple_rnn_input', description=\"created by layer 'simple_rnn_input'\"), but it was called on an input with incompatible shape (None, 1, 1).\n",
      "59/59 [==============================] - 2s 2ms/step - loss: 1470827.1250\n",
      "Epoch 2/20\n",
      "59/59 [==============================] - 0s 2ms/step - loss: 1464184.6250\n",
      "Epoch 3/20\n",
      "59/59 [==============================] - 0s 2ms/step - loss: 1460238.0000\n",
      "Epoch 4/20\n",
      "59/59 [==============================] - 0s 2ms/step - loss: 1456841.5000\n",
      "Epoch 5/20\n",
      "59/59 [==============================] - 0s 2ms/step - loss: 1453746.8750\n",
      "Epoch 6/20\n",
      "59/59 [==============================] - 0s 2ms/step - loss: 1450543.2500\n",
      "Epoch 7/20\n",
      "59/59 [==============================] - 0s 2ms/step - loss: 1447673.6250\n",
      "Epoch 8/20\n",
      "59/59 [==============================] - 0s 2ms/step - loss: 1444800.3750\n",
      "Epoch 9/20\n",
      "59/59 [==============================] - 0s 2ms/step - loss: 1441681.2500\n",
      "Epoch 10/20\n",
      "59/59 [==============================] - 0s 2ms/step - loss: 1439021.5000\n",
      "Epoch 11/20\n",
      "59/59 [==============================] - 0s 2ms/step - loss: 1436193.7500\n",
      "Epoch 12/20\n",
      "59/59 [==============================] - 0s 2ms/step - loss: 1433207.8750\n",
      "Epoch 13/20\n",
      "59/59 [==============================] - 0s 2ms/step - loss: 1430333.3750\n",
      "Epoch 14/20\n",
      "59/59 [==============================] - 0s 2ms/step - loss: 1427281.7500\n",
      "Epoch 15/20\n",
      "59/59 [==============================] - 0s 2ms/step - loss: 1424703.5000\n",
      "Epoch 16/20\n",
      "59/59 [==============================] - 0s 2ms/step - loss: 1421642.8750\n",
      "Epoch 17/20\n",
      "59/59 [==============================] - 0s 2ms/step - loss: 1419046.2500\n",
      "Epoch 18/20\n",
      "59/59 [==============================] - 0s 2ms/step - loss: 1416189.7500\n",
      "Epoch 19/20\n",
      "59/59 [==============================] - 0s 2ms/step - loss: 1413599.0000\n",
      "Epoch 20/20\n",
      "59/59 [==============================] - 0s 2ms/step - loss: 1410583.0000\n"
     ]
    },
    {
     "data": {
      "text/plain": [
       "<keras.callbacks.History at 0x1c14d8bfbc8>"
      ]
     },
     "execution_count": 67,
     "metadata": {},
     "output_type": "execute_result"
    }
   ],
   "source": [
    "# fit the model RNN, dengan epoch 20 dan batch size 25\n",
    "\n",
    "rnn_model.fit(X_train, y_train, epochs=20, batch_size=25)"
   ]
  },
  {
   "cell_type": "code",
   "execution_count": 68,
   "metadata": {},
   "outputs": [],
   "source": [
    "# Prediksi Model RNN\n",
    "rnn_predictions = rnn_model.predict(test_x)"
   ]
  },
  {
   "cell_type": "code",
   "execution_count": 69,
   "metadata": {},
   "outputs": [],
   "source": [
    "#Melakukan perhitungan skor terhadap model RNN yang dibuat\n",
    "mae_rnn=metrics.mean_absolute_error(test_y, rnn_predictions) \n",
    "mse_rnn=metrics.mean_squared_error(test_y, rnn_predictions) \n",
    "r2_rnn = r2_score(test_y, rnn_predictions)"
   ]
  },
  {
   "cell_type": "code",
   "execution_count": 70,
   "metadata": {},
   "outputs": [
    {
     "name": "stdout",
     "output_type": "stream",
     "text": [
      "Hasil perhitungan skor dari model RNN :\n",
      "MAE skor =  31.19146300840557\n",
      "MSE skor =  972.907684397729\n",
      "R^2 skor =  -181114555.0606114\n"
     ]
    }
   ],
   "source": [
    "print('Hasil perhitungan skor dari model RNN :')\n",
    "print('MAE skor = ', mae_rnn)\n",
    "print('MSE skor = ', mse_rnn)\n",
    "print('R^2 skor = ', r2_rnn)"
   ]
  },
  {
   "cell_type": "markdown",
   "metadata": {},
   "source": [
    "R^2 skor menunjukkan hasil negatif yang mana berarti model RNN ini sangat tidak cocok untuk digunakan karena garis regresi yang tidak cocok"
   ]
  },
  {
   "cell_type": "markdown",
   "metadata": {},
   "source": [
    "\n",
    "# --- Build Model --- Long Short Term Memory (LSTM)"
   ]
  },
  {
   "cell_type": "code",
   "execution_count": 71,
   "metadata": {},
   "outputs": [],
   "source": [
    "# import library for build model \n",
    "from keras.layers import LSTM"
   ]
  },
  {
   "cell_type": "code",
   "execution_count": 72,
   "metadata": {},
   "outputs": [],
   "source": [
    "# buat varibel penampung model LSTM\n",
    "lstm_model = Sequential()"
   ]
  },
  {
   "cell_type": "code",
   "execution_count": 73,
   "metadata": {},
   "outputs": [],
   "source": [
    "# Add a LSTM layer with 40 internal units. dengan Dropout sebesar 0.15\n",
    "\n",
    "lstm_model.add(LSTM(40,activation=\"tanh\",return_sequences=True, input_shape=(train_x.shape[1],1)))\n",
    "lstm_model.add(Dropout(0.15))\n",
    "\n",
    "lstm_model.add(LSTM(40,activation=\"tanh\",return_sequences=True))\n",
    "lstm_model.add(Dropout(0.15))\n",
    "\n",
    "lstm_model.add(LSTM(40,activation=\"tanh\",return_sequences=False))\n",
    "lstm_model.add(Dropout(0.15))\n",
    "\n",
    "# Add a Dense layer with 1 units.\n",
    "lstm_model.add(Dense(1))"
   ]
  },
  {
   "cell_type": "code",
   "execution_count": 74,
   "metadata": {},
   "outputs": [],
   "source": [
    "# menambahkan loss function kedalam model lstm dengan tipe MSE\n",
    "\n",
    "lstm_model.compile(optimizer=\"adam\",loss=\"MSE\")"
   ]
  },
  {
   "cell_type": "code",
   "execution_count": 75,
   "metadata": {},
   "outputs": [
    {
     "name": "stdout",
     "output_type": "stream",
     "text": [
      "Epoch 1/20\n",
      "64/64 [==============================] - 6s 48ms/step - loss: 0.0065\n",
      "Epoch 2/20\n",
      "64/64 [==============================] - 3s 46ms/step - loss: 0.0024\n",
      "Epoch 3/20\n",
      "64/64 [==============================] - 3s 46ms/step - loss: 0.0018\n",
      "Epoch 4/20\n",
      "64/64 [==============================] - 3s 47ms/step - loss: 0.0016\n",
      "Epoch 5/20\n",
      "64/64 [==============================] - 3s 46ms/step - loss: 0.0018\n",
      "Epoch 6/20\n",
      "64/64 [==============================] - 3s 46ms/step - loss: 0.0014\n",
      "Epoch 7/20\n",
      "64/64 [==============================] - 3s 46ms/step - loss: 0.0015\n",
      "Epoch 8/20\n",
      "64/64 [==============================] - 3s 45ms/step - loss: 0.0015\n",
      "Epoch 9/20\n",
      "64/64 [==============================] - 3s 46ms/step - loss: 0.0014\n",
      "Epoch 10/20\n",
      "64/64 [==============================] - 3s 46ms/step - loss: 9.8797e-04\n",
      "Epoch 11/20\n",
      "64/64 [==============================] - 3s 46ms/step - loss: 8.7906e-04\n",
      "Epoch 12/20\n",
      "64/64 [==============================] - 3s 47ms/step - loss: 0.0011\n",
      "Epoch 13/20\n",
      "64/64 [==============================] - 3s 46ms/step - loss: 8.2521e-04\n",
      "Epoch 14/20\n",
      "64/64 [==============================] - 3s 45ms/step - loss: 9.2873e-04\n",
      "Epoch 15/20\n",
      "64/64 [==============================] - 3s 46ms/step - loss: 0.0012\n",
      "Epoch 16/20\n",
      "64/64 [==============================] - 3s 51ms/step - loss: 7.8971e-04\n",
      "Epoch 17/20\n",
      "64/64 [==============================] - 3s 47ms/step - loss: 9.7160e-04\n",
      "Epoch 18/20\n",
      "64/64 [==============================] - 3s 46ms/step - loss: 9.7924e-04\n",
      "Epoch 19/20\n",
      "64/64 [==============================] - 3s 44ms/step - loss: 7.4304e-04\n",
      "Epoch 20/20\n",
      "64/64 [==============================] - 3s 45ms/step - loss: 6.6003e-04\n"
     ]
    },
    {
     "data": {
      "text/plain": [
       "<keras.callbacks.History at 0x1c152e0e108>"
      ]
     },
     "execution_count": 75,
     "metadata": {},
     "output_type": "execute_result"
    }
   ],
   "source": [
    "# fit lstm model, dengan epoch 20 dan batch size 25\n",
    "\n",
    "lstm_model.fit(train_x,train_y,epochs=20,batch_size=25)"
   ]
  },
  {
   "cell_type": "code",
   "execution_count": 76,
   "metadata": {
    "scrolled": false
   },
   "outputs": [],
   "source": [
    "# Prediksi Model LSTM\n",
    "lstm_predictions = lstm_model.predict(test_x)"
   ]
  },
  {
   "cell_type": "code",
   "execution_count": 77,
   "metadata": {},
   "outputs": [],
   "source": [
    "mae_lstm=metrics.mean_absolute_error(test_y,lstm_predictions) \n",
    "mse_lstm=metrics.mean_squared_error(test_y,lstm_predictions) \n",
    "r2_lstm = r2_score(test_y,lstm_predictions)"
   ]
  },
  {
   "cell_type": "code",
   "execution_count": 78,
   "metadata": {},
   "outputs": [
    {
     "name": "stdout",
     "output_type": "stream",
     "text": [
      "MAE skor =  0.01385033642973287\n",
      "MSE skor =  0.0001921225446399133\n",
      "R^2 skor =  -34.76515011620368\n"
     ]
    }
   ],
   "source": [
    "print('MAE skor = ', mae_lstm)\n",
    "print('MSE skor = ', mse_lstm)\n",
    "print('R^2 skor = ', r2_lstm)"
   ]
  },
  {
   "cell_type": "markdown",
   "metadata": {},
   "source": [
    "R^2 skor menunjukkan hasil negatif yang mana berarti model LSTM ini sangat tidak cocok untuk digunakan karena garis regresi yang tidak cocok"
   ]
  },
  {
   "cell_type": "code",
   "execution_count": 79,
   "metadata": {},
   "outputs": [
    {
     "data": {
      "image/png": "[encoded data removed]",
      "text/plain": [
       "<Figure size 1152x864 with 1 Axes>"
      ]
     },
     "metadata": {
      "needs_background": "light"
     },
     "output_type": "display_data"
    }
   ],
   "source": [
    "plt.figure(figsize=(16,12))\n",
    "\n",
    "plt.plot(test_y, c=\"blue\",linewidth=2, label=\"original\")\n",
    "plt.plot(lstm_predictions, c=\"green\",linewidth=2, label=\"LSTM\")\n",
    "#plt.plot(rnn_predictions, c=\"red\",linewidth=2, label=\"RNN\")\n",
    "plt.legend()\n",
    "plt.title(\"PERBANDINGAN\",fontsize=20)\n",
    "plt.grid()\n",
    "plt.show()"
   ]
  },
  {
   "cell_type": "markdown",
   "metadata": {},
   "source": [
    "Dari visualisasi yang ditunjukkan diatas, dapat diketahui bahwa pergerakan prediksi dengan model LSTM (hijau) tidak bergerak di posisi yang sama dengan data uji (biru). Sehingga memperkuat pernyataan bahwa model ini tidak dapat digunakan untuk prediksi lebih lanjut"
   ]
  },
  {
   "cell_type": "markdown",
   "metadata": {},
   "source": [
    "\n",
    "# Evaluasi dan Pemilihan Model Terbaik"
   ]
  },
  {
   "cell_type": "markdown",
   "metadata": {},
   "source": [
    "* Mean Absolute Error (MAE): Rerata dari nilai absolut dari error. MAE adalah metrik paling mudah dipahami karena hanya rata-rata dari error.\n",
    "* Mean Squared Error (MSE): adalah rerata dari error dikuadratkan. MSE lebih populer dibanding MAE karena fokus pada error yang besar karena dikuadratkan sehingga berdampak lebih besar terhadap error yang lebih besar dibandingkan error yang lebih kecil.\n",
    "* R-squared bukan error namun metrik yang populer yang merepresentasikan sejauh mana data cocok dengan garis regresi yang didapatkan. Semakin besar R-squared akan semaki baik pencocokan garis terhadap data. Nilai terbaik adalah 1.0 dan dapat bernilai negatif."
   ]
  },
  {
   "cell_type": "code",
   "execution_count": 80,
   "metadata": {},
   "outputs": [
    {
     "data": {
      "text/html": [
       "<div>\n",
       "<style scoped>\n",
       "    .dataframe tbody tr th:only-of-type {\n",
       "        vertical-align: middle;\n",
       "    }\n",
       "\n",
       "    .dataframe tbody tr th {\n",
       "        vertical-align: top;\n",
       "    }\n",
       "\n",
       "    .dataframe thead th {\n",
       "        text-align: right;\n",
       "    }\n",
       "</style>\n",
       "<table border=\"1\" class=\"dataframe\">\n",
       "  <thead>\n",
       "    <tr style=\"text-align: right;\">\n",
       "      <th></th>\n",
       "      <th>Model</th>\n",
       "      <th>MSE</th>\n",
       "      <th>R^2 Skor</th>\n",
       "    </tr>\n",
       "  </thead>\n",
       "  <tbody>\n",
       "    <tr>\n",
       "      <th>0</th>\n",
       "      <td>Regresi Linear Sederhana</td>\n",
       "      <td>1451.466239</td>\n",
       "      <td>9.987000e-01</td>\n",
       "    </tr>\n",
       "    <tr>\n",
       "      <th>1</th>\n",
       "      <td>Regresi Linear Berganda</td>\n",
       "      <td>428.780402</td>\n",
       "      <td>9.995000e-01</td>\n",
       "    </tr>\n",
       "    <tr>\n",
       "      <th>2</th>\n",
       "      <td>RNN</td>\n",
       "      <td>972.907684</td>\n",
       "      <td>-1.811146e+08</td>\n",
       "    </tr>\n",
       "    <tr>\n",
       "      <th>3</th>\n",
       "      <td>LSTM</td>\n",
       "      <td>0.000192</td>\n",
       "      <td>-3.476520e+01</td>\n",
       "    </tr>\n",
       "  </tbody>\n",
       "</table>\n",
       "</div>"
      ],
      "text/plain": [
       "                      Model          MSE      R^2 Skor\n",
       "0  Regresi Linear Sederhana  1451.466239  9.987000e-01\n",
       "1   Regresi Linear Berganda   428.780402  9.995000e-01\n",
       "2                       RNN   972.907684 -1.811146e+08\n",
       "3                      LSTM     0.000192 -3.476520e+01"
      ]
     },
     "execution_count": 80,
     "metadata": {},
     "output_type": "execute_result"
    }
   ],
   "source": [
    "results = pd.DataFrame({\n",
    "    'Model': ['Regresi Linear Sederhana', \n",
    "              'Regresi Linear Berganda',\n",
    "              'RNN',  \n",
    "              'LSTM'],\n",
    "    'MSE': [ mse_lrsederhana,\n",
    "              mse_lrganda,\n",
    "              mse_rnn,  \n",
    "              mse_lstm],\n",
    "    \"R^2 Skor\":[round(r2_lrsederhana,4),\n",
    "                round(r2_lrganda,4),\n",
    "                round(r2_rnn,4),\n",
    "                round(r2_lstm,4)\n",
    "                     ]})\n",
    "result_df = results.sort_values(by='R^2 Skor', ascending=True)\n",
    "result_df = results.reset_index(drop=True)\n",
    "result_df.head(9)"
   ]
  },
  {
   "cell_type": "markdown",
   "metadata": {},
   "source": [
    "Sebagaimana yang dapat kita lihat dari perbandingan rate error dan skor R^2 masing-masing model, kita mendapatkan model dengan skor R^2 terbesar pada model Regresi Linear Berganda sebesar 0.9996"
   ]
  },
  {
   "cell_type": "code",
   "execution_count": 81,
   "metadata": {},
   "outputs": [
    {
     "name": "stdout",
     "output_type": "stream",
     "text": [
      "Hasil prediksi Regresi Linear Berganda : \n"
     ]
    },
    {
     "data": {
      "text/html": [
       "<div>\n",
       "<style scoped>\n",
       "    .dataframe tbody tr th:only-of-type {\n",
       "        vertical-align: middle;\n",
       "    }\n",
       "\n",
       "    .dataframe tbody tr th {\n",
       "        vertical-align: top;\n",
       "    }\n",
       "\n",
       "    .dataframe thead th {\n",
       "        text-align: right;\n",
       "    }\n",
       "</style>\n",
       "<table border=\"1\" class=\"dataframe\">\n",
       "  <thead>\n",
       "    <tr style=\"text-align: right;\">\n",
       "      <th></th>\n",
       "      <th>Pembukaan</th>\n",
       "      <th>Terendah</th>\n",
       "      <th>Terakhir</th>\n",
       "      <th>Asli</th>\n",
       "      <th>Prediksi</th>\n",
       "    </tr>\n",
       "  </thead>\n",
       "  <tbody>\n",
       "    <tr>\n",
       "      <th>0</th>\n",
       "      <td>4095.16</td>\n",
       "      <td>3980.24</td>\n",
       "      <td>4296.98</td>\n",
       "      <td>4297.63</td>\n",
       "      <td>4361.230508</td>\n",
       "    </tr>\n",
       "    <tr>\n",
       "      <th>1</th>\n",
       "      <td>4270.73</td>\n",
       "      <td>4248.90</td>\n",
       "      <td>4520.30</td>\n",
       "      <td>4549.74</td>\n",
       "      <td>4534.247050</td>\n",
       "    </tr>\n",
       "    <tr>\n",
       "      <th>2</th>\n",
       "      <td>4340.23</td>\n",
       "      <td>4172.19</td>\n",
       "      <td>4273.54</td>\n",
       "      <td>4372.83</td>\n",
       "      <td>4440.156630</td>\n",
       "    </tr>\n",
       "    <tr>\n",
       "      <th>3</th>\n",
       "      <td>4208.29</td>\n",
       "      <td>4071.01</td>\n",
       "      <td>4290.88</td>\n",
       "      <td>4298.30</td>\n",
       "      <td>4400.133315</td>\n",
       "    </tr>\n",
       "    <tr>\n",
       "      <th>4</th>\n",
       "      <td>4612.05</td>\n",
       "      <td>4612.05</td>\n",
       "      <td>4808.38</td>\n",
       "      <td>4822.97</td>\n",
       "      <td>4833.810451</td>\n",
       "    </tr>\n",
       "    <tr>\n",
       "      <th>...</th>\n",
       "      <td>...</td>\n",
       "      <td>...</td>\n",
       "      <td>...</td>\n",
       "      <td>...</td>\n",
       "      <td>...</td>\n",
       "    </tr>\n",
       "    <tr>\n",
       "      <th>397</th>\n",
       "      <td>10.40</td>\n",
       "      <td>10.40</td>\n",
       "      <td>11.62</td>\n",
       "      <td>11.94</td>\n",
       "      <td>11.979484</td>\n",
       "    </tr>\n",
       "    <tr>\n",
       "      <th>398</th>\n",
       "      <td>11.32</td>\n",
       "      <td>10.52</td>\n",
       "      <td>10.67</td>\n",
       "      <td>11.35</td>\n",
       "      <td>11.913334</td>\n",
       "    </tr>\n",
       "    <tr>\n",
       "      <th>399</th>\n",
       "      <td>11.09</td>\n",
       "      <td>8.34</td>\n",
       "      <td>10.74</td>\n",
       "      <td>11.20</td>\n",
       "      <td>12.732135</td>\n",
       "    </tr>\n",
       "    <tr>\n",
       "      <th>400</th>\n",
       "      <td>15.07</td>\n",
       "      <td>11.40</td>\n",
       "      <td>12.50</td>\n",
       "      <td>15.07</td>\n",
       "      <td>15.578729</td>\n",
       "    </tr>\n",
       "    <tr>\n",
       "      <th>401</th>\n",
       "      <td>11.20</td>\n",
       "      <td>11.07</td>\n",
       "      <td>11.75</td>\n",
       "      <td>11.85</td>\n",
       "      <td>12.367089</td>\n",
       "    </tr>\n",
       "  </tbody>\n",
       "</table>\n",
       "<p>402 rows × 5 columns</p>\n",
       "</div>"
      ],
      "text/plain": [
       "     Pembukaan  Terendah  Terakhir     Asli     Prediksi\n",
       "0      4095.16   3980.24   4296.98  4297.63  4361.230508\n",
       "1      4270.73   4248.90   4520.30  4549.74  4534.247050\n",
       "2      4340.23   4172.19   4273.54  4372.83  4440.156630\n",
       "3      4208.29   4071.01   4290.88  4298.30  4400.133315\n",
       "4      4612.05   4612.05   4808.38  4822.97  4833.810451\n",
       "..         ...       ...       ...      ...          ...\n",
       "397      10.40     10.40     11.62    11.94    11.979484\n",
       "398      11.32     10.52     10.67    11.35    11.913334\n",
       "399      11.09      8.34     10.74    11.20    12.732135\n",
       "400      15.07     11.40     12.50    15.07    15.578729\n",
       "401      11.20     11.07     11.75    11.85    12.367089\n",
       "\n",
       "[402 rows x 5 columns]"
      ]
     },
     "execution_count": 81,
     "metadata": {},
     "output_type": "execute_result"
    }
   ],
   "source": [
    "print('Hasil prediksi Regresi Linear Berganda : ')\n",
    "hasilprediksiLRGanda"
   ]
  },
  {
   "cell_type": "code",
   "execution_count": 57,
   "metadata": {},
   "outputs": [
    {
     "data": {
      "text/plain": [
       "array([[4416.91289715]])"
      ]
     },
     "execution_count": 57,
     "metadata": {},
     "output_type": "execute_result"
    }
   ],
   "source": [
    "#regr.predict([['Pembukaan','Terendah','Terakhir']])\n",
    "coba_prediksi = regr.predict([[4411.10, 4115.40, 4138.20]])\n",
    "coba_prediksi"
   ]
  },
  {
   "cell_type": "code",
   "execution_count": 64,
   "metadata": {},
   "outputs": [
    {
     "data": {
      "text/plain": [
       "array([[4472.75204092]])"
      ]
     },
     "execution_count": 64,
     "metadata": {},
     "output_type": "execute_result"
    }
   ],
   "source": [
    "#regr.predict([['Pembukaan','Terendah','Terakhir']])\n",
    "coba_prediksi = regr.predict([[4295.39, 4250.00, 4411.10]])\n",
    "coba_prediksi"
   ]
  },
  {
   "cell_type": "code",
   "execution_count": 65,
   "metadata": {},
   "outputs": [
    {
     "data": {
      "text/plain": [
       "array([[4559.93799849]])"
      ]
     },
     "execution_count": 65,
     "metadata": {},
     "output_type": "execute_result"
    }
   ],
   "source": [
    "#regr.predict([['Pembukaan','Terendah','Terakhir']])\n",
    "coba_prediksi = regr.predict([[4541.10, 4144.60, 4222.00]])\n",
    "coba_prediksi"
   ]
  },
  {
   "cell_type": "code",
   "execution_count": 77,
   "metadata": {},
   "outputs": [
    {
     "data": {
      "text/plain": [
       "array([[4285.9624798]])"
      ]
     },
     "execution_count": 77,
     "metadata": {},
     "output_type": "execute_result"
    }
   ],
   "source": [
    "#regr.predict([['Pembukaan','Terendah','Terakhir']])\n",
    "coba_prediksi = regr.predict([[4137.50, 4046.96, 4190.00]])\n",
    "coba_prediksi"
   ]
  },
  {
   "cell_type": "markdown",
   "metadata": {},
   "source": [
    "## Menyimpan Model"
   ]
  },
  {
   "cell_type": "code",
   "execution_count": 88,
   "metadata": {},
   "outputs": [],
   "source": [
    "from keras.models import load_model\n",
    "import pickle\n",
    "pickle.dump(regr, open('modellrganda','wb'))"
   ]
  },
  {
   "cell_type": "code",
   "execution_count": 90,
   "metadata": {},
   "outputs": [
    {
     "data": {
      "text/plain": [
       "array([[4416.91289715]])"
      ]
     },
     "execution_count": 90,
     "metadata": {},
     "output_type": "execute_result"
    }
   ],
   "source": [
    "load_model = pickle.load(open('modellrganda','rb'))\n",
    "load_model.predict([[4411.10, 4115.40, 4138.20]])"
   ]
  },
  {
   "cell_type": "code",
   "execution_count": null,
   "metadata": {},
   "outputs": [],
   "source": []
  },
  {
   "cell_type": "code",
   "execution_count": null,
   "metadata": {},
   "outputs": [],
   "source": []
  }
 ],
 "metadata": {
  "kernelspec": {
   "display_name": "Python 3",
   "language": "python",
   "name": "python3"
  },
  "language_info": {
   "codemirror_mode": {
    "name": "ipython",
    "version": 3
   },
   "file_extension": ".py",
   "mimetype": "text/x-python",
   "name": "python",
   "nbconvert_exporter": "python",
   "pygments_lexer": "ipython3",
   "version": "3.7.6"
  }
 },
 "nbformat": 4,
 "nbformat_minor": 4
}
